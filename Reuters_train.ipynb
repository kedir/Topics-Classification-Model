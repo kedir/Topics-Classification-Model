{
 "cells": [
  {
   "cell_type": "markdown",
   "metadata": {
    "id": "riU9DttMrxRf"
   },
   "source": [
    "# Note:\n",
    "\n",
    "> # Before runninig this notebook, change the runtime type to **GPU** to make the document to vector embedding faster.\n",
    "\n",
    "\n"
   ]
  },
  {
   "cell_type": "markdown",
   "metadata": {
    "id": "rBZAdbVCtPUA"
   },
   "source": [
    "> # Install required Libraries\n",
    "\n"
   ]
  },
  {
   "cell_type": "code",
   "execution_count": 1,
   "metadata": {
    "colab": {
     "base_uri": "https://localhost:8080/"
    },
    "executionInfo": {
     "elapsed": 8638,
     "status": "ok",
     "timestamp": 1637535583815,
     "user": {
      "displayName": "Kedir Ahmed",
      "photoUrl": "https://lh3.googleusercontent.com/a/default-user=s64",
      "userId": "01899746473495893701"
     },
     "user_tz": 300
    },
    "id": "YBBDxNz9svDo",
    "outputId": "926e4d6e-2d0e-48b0-eca7-01c0212f7867"
   },
   "outputs": [
    {
     "name": "stdout",
     "output_type": "stream",
     "text": [
      "Collecting transformers\n",
      "  Downloading transformers-4.12.5-py3-none-any.whl (3.1 MB)\n",
      "\u001b[K     |████████████████████████████████| 3.1 MB 4.9 MB/s \n",
      "\u001b[?25hCollecting huggingface-hub<1.0,>=0.1.0\n",
      "  Downloading huggingface_hub-0.1.2-py3-none-any.whl (59 kB)\n",
      "\u001b[K     |████████████████████████████████| 59 kB 5.7 MB/s \n",
      "\u001b[?25hCollecting pyyaml>=5.1\n",
      "  Downloading PyYAML-6.0-cp37-cp37m-manylinux_2_5_x86_64.manylinux1_x86_64.manylinux_2_12_x86_64.manylinux2010_x86_64.whl (596 kB)\n",
      "\u001b[K     |████████████████████████████████| 596 kB 38.6 MB/s \n",
      "\u001b[?25hCollecting tokenizers<0.11,>=0.10.1\n",
      "  Downloading tokenizers-0.10.3-cp37-cp37m-manylinux_2_5_x86_64.manylinux1_x86_64.manylinux_2_12_x86_64.manylinux2010_x86_64.whl (3.3 MB)\n",
      "\u001b[K     |████████████████████████████████| 3.3 MB 43.0 MB/s \n",
      "\u001b[?25hRequirement already satisfied: importlib-metadata in /usr/local/lib/python3.7/dist-packages (from transformers) (4.8.2)\n",
      "Collecting sacremoses\n",
      "  Downloading sacremoses-0.0.46-py3-none-any.whl (895 kB)\n",
      "\u001b[K     |████████████████████████████████| 895 kB 49.9 MB/s \n",
      "\u001b[?25hRequirement already satisfied: regex!=2019.12.17 in /usr/local/lib/python3.7/dist-packages (from transformers) (2019.12.20)\n",
      "Requirement already satisfied: tqdm>=4.27 in /usr/local/lib/python3.7/dist-packages (from transformers) (4.62.3)\n",
      "Requirement already satisfied: filelock in /usr/local/lib/python3.7/dist-packages (from transformers) (3.4.0)\n",
      "Requirement already satisfied: requests in /usr/local/lib/python3.7/dist-packages (from transformers) (2.23.0)\n",
      "Requirement already satisfied: numpy>=1.17 in /usr/local/lib/python3.7/dist-packages (from transformers) (1.19.5)\n",
      "Requirement already satisfied: packaging>=20.0 in /usr/local/lib/python3.7/dist-packages (from transformers) (21.3)\n",
      "Requirement already satisfied: typing-extensions>=3.7.4.3 in /usr/local/lib/python3.7/dist-packages (from huggingface-hub<1.0,>=0.1.0->transformers) (3.10.0.2)\n",
      "Requirement already satisfied: pyparsing!=3.0.5,>=2.0.2 in /usr/local/lib/python3.7/dist-packages (from packaging>=20.0->transformers) (3.0.6)\n",
      "Requirement already satisfied: zipp>=0.5 in /usr/local/lib/python3.7/dist-packages (from importlib-metadata->transformers) (3.6.0)\n",
      "Requirement already satisfied: urllib3!=1.25.0,!=1.25.1,<1.26,>=1.21.1 in /usr/local/lib/python3.7/dist-packages (from requests->transformers) (1.24.3)\n",
      "Requirement already satisfied: certifi>=2017.4.17 in /usr/local/lib/python3.7/dist-packages (from requests->transformers) (2021.10.8)\n",
      "Requirement already satisfied: idna<3,>=2.5 in /usr/local/lib/python3.7/dist-packages (from requests->transformers) (2.10)\n",
      "Requirement already satisfied: chardet<4,>=3.0.2 in /usr/local/lib/python3.7/dist-packages (from requests->transformers) (3.0.4)\n",
      "Requirement already satisfied: six in /usr/local/lib/python3.7/dist-packages (from sacremoses->transformers) (1.15.0)\n",
      "Requirement already satisfied: click in /usr/local/lib/python3.7/dist-packages (from sacremoses->transformers) (7.1.2)\n",
      "Requirement already satisfied: joblib in /usr/local/lib/python3.7/dist-packages (from sacremoses->transformers) (1.1.0)\n",
      "Installing collected packages: pyyaml, tokenizers, sacremoses, huggingface-hub, transformers\n",
      "  Attempting uninstall: pyyaml\n",
      "    Found existing installation: PyYAML 3.13\n",
      "    Uninstalling PyYAML-3.13:\n",
      "      Successfully uninstalled PyYAML-3.13\n",
      "Successfully installed huggingface-hub-0.1.2 pyyaml-6.0 sacremoses-0.0.46 tokenizers-0.10.3 transformers-4.12.5\n"
     ]
    }
   ],
   "source": [
    "!pip install transformers"
   ]
  },
  {
   "cell_type": "markdown",
   "metadata": {
    "id": "QFQkLCqHuBVu"
   },
   "source": [
    "> # Import necessary **modules**\n",
    "\n"
   ]
  },
  {
   "cell_type": "code",
   "execution_count": 2,
   "metadata": {
    "executionInfo": {
     "elapsed": 29857,
     "status": "ok",
     "timestamp": 1637535613667,
     "user": {
      "displayName": "Kedir Ahmed",
      "photoUrl": "https://lh3.googleusercontent.com/a/default-user=s64",
      "userId": "01899746473495893701"
     },
     "user_tz": 300
    },
    "id": "y9KssYhAl9-L"
   },
   "outputs": [],
   "source": [
    "from bs4 import BeautifulSoup\n",
    "import os\n",
    "from string import punctuation\n",
    "import re\n",
    "import numpy as np\n",
    "import pandas as pd\n",
    "import torch\n",
    "import transformers\n",
    "from sklearn.model_selection import cross_val_score\n",
    "from sklearn.model_selection import train_test_split\n",
    "from sklearn.metrics import roc_auc_score, precision_score, recall_score, balanced_accuracy_score\n",
    "import nltk\n",
    "import tensorflow as tf\n",
    "import math\n",
    "import h5py\n",
    "import matplotlib.pyplot as plt\n",
    "from tensorflow.python.framework import ops\n",
    "import keras\n",
    "from keras.models import Sequential\n",
    "from keras.layers import Dense\n",
    "from keras.callbacks import ModelCheckpoint, LearningRateScheduler, TensorBoard, EarlyStopping\n",
    "from keras import optimizers\n",
    "from keras.regularizers import l1\n",
    "from sklearn.decomposition import PCA, KernelPCA\n",
    "import seaborn as sns"
   ]
  },
  {
   "cell_type": "code",
   "execution_count": 3,
   "metadata": {
    "colab": {
     "base_uri": "https://localhost:8080/"
    },
    "executionInfo": {
     "elapsed": 1086,
     "status": "ok",
     "timestamp": 1637535614735,
     "user": {
      "displayName": "Kedir Ahmed",
      "photoUrl": "https://lh3.googleusercontent.com/a/default-user=s64",
      "userId": "01899746473495893701"
     },
     "user_tz": 300
    },
    "id": "buRaVkXziZ5l",
    "outputId": "bacfab14-c3b3-4e19-dd66-ca323bbdb659"
   },
   "outputs": [
    {
     "name": "stdout",
     "output_type": "stream",
     "text": [
      "Downloading...\n",
      "From: https://drive.google.com/uc?id=1EsKIkfWO2EyInI1fdMJB-KdrE7DybgIr\n",
      "To: /content/preprocess_utils.py\n",
      "\r",
      "  0% 0.00/6.99k [00:00<?, ?B/s]\r",
      "100% 6.99k/6.99k [00:00<00:00, 16.8MB/s]\n"
     ]
    }
   ],
   "source": [
    "# copy utils function and import\n",
    "if not os.path.isfile('preprocess_utils.py'):\n",
    "  !gdown --id 1EsKIkfWO2EyInI1fdMJB-KdrE7DybgIr"
   ]
  },
  {
   "cell_type": "code",
   "execution_count": 4,
   "metadata": {
    "executionInfo": {
     "elapsed": 7,
     "status": "ok",
     "timestamp": 1637535614737,
     "user": {
      "displayName": "Kedir Ahmed",
      "photoUrl": "https://lh3.googleusercontent.com/a/default-user=s64",
      "userId": "01899746473495893701"
     },
     "user_tz": 300
    },
    "id": "5TspIIQ7icHI"
   },
   "outputs": [],
   "source": [
    "from preprocess_utils import reuters_util"
   ]
  },
  {
   "cell_type": "markdown",
   "metadata": {
    "id": "xSF_I37WuQxZ"
   },
   "source": [
    "> # Download and extract the dataset \n",
    "\n"
   ]
  },
  {
   "cell_type": "code",
   "execution_count": 5,
   "metadata": {
    "executionInfo": {
     "elapsed": 168,
     "status": "ok",
     "timestamp": 1637535614899,
     "user": {
      "displayName": "Kedir Ahmed",
      "photoUrl": "https://lh3.googleusercontent.com/a/default-user=s64",
      "userId": "01899746473495893701"
     },
     "user_tz": 300
    },
    "id": "c2wn_fjrmWdd"
   },
   "outputs": [],
   "source": [
    "pathdir = \"/content/reuters21578\""
   ]
  },
  {
   "cell_type": "code",
   "execution_count": 6,
   "metadata": {
    "executionInfo": {
     "elapsed": 9,
     "status": "ok",
     "timestamp": 1637535614900,
     "user": {
      "displayName": "Kedir Ahmed",
      "photoUrl": "https://lh3.googleusercontent.com/a/default-user=s64",
      "userId": "01899746473495893701"
     },
     "user_tz": 300
    },
    "id": "-EwshgfP2W9o"
   },
   "outputs": [],
   "source": [
    "def download_dataset():\n",
    "  if not os.path.isfile('reuters21578-20211110T171613Z-001.zip'):\n",
    "    !gdown --id 1LEbse_I7hrbPSwgSFGGFDrdlqbG99LUb\n",
    "\n",
    "  if not os.path.exists(pathdir):\n",
    "    !unzip reuters21578-20211110T171613Z-001.zip"
   ]
  },
  {
   "cell_type": "code",
   "execution_count": 7,
   "metadata": {
    "colab": {
     "base_uri": "https://localhost:8080/"
    },
    "executionInfo": {
     "elapsed": 13689,
     "status": "ok",
     "timestamp": 1637535628582,
     "user": {
      "displayName": "Kedir Ahmed",
      "photoUrl": "https://lh3.googleusercontent.com/a/default-user=s64",
      "userId": "01899746473495893701"
     },
     "user_tz": 300
    },
    "id": "m2fkpl2cZ6Dl",
    "outputId": "89f1d6b6-827d-4510-bdf3-18e6d325016a"
   },
   "outputs": [
    {
     "name": "stdout",
     "output_type": "stream",
     "text": [
      "Downloading...\n",
      "From: https://drive.google.com/uc?id=1LEbse_I7hrbPSwgSFGGFDrdlqbG99LUb\n",
      "To: /content/reuters21578-20211110T171613Z-001.zip\n",
      "\r",
      "  0% 0.00/8.02M [00:00<?, ?B/s]\r",
      "100% 8.02M/8.02M [00:00<00:00, 70.7MB/s]\n",
      "Archive:  reuters21578-20211110T171613Z-001.zip\n",
      "  inflating: reuters21578/README.txt  \n",
      "  inflating: reuters21578/lewis.dtd  \n",
      "  inflating: reuters21578/cat-descriptions_120396.txt  \n",
      "  inflating: reuters21578/all-people-strings.lc.txt  \n",
      "  inflating: reuters21578/all-orgs-strings.lc.txt  \n",
      "  inflating: reuters21578/all-topics-strings.lc.txt  \n",
      "  inflating: reuters21578/all-places-strings.lc.txt  \n",
      "  inflating: reuters21578/all-exchanges-strings.lc.txt  \n",
      "  inflating: reuters21578/feldman-cia-worldfactbook-data.txt  \n",
      "  inflating: reuters21578/reut2-020.sgm  \n",
      "  inflating: reuters21578/reut2-017.sgm  \n",
      "  inflating: reuters21578/reut2-018.sgm  \n",
      "  inflating: reuters21578/reut2-016.sgm  \n",
      "  inflating: reuters21578/reut2-014.sgm  \n",
      "  inflating: reuters21578/reut2-015.sgm  \n",
      "  inflating: reuters21578/reut2-013.sgm  \n",
      "  inflating: reuters21578/reut2-012.sgm  \n",
      "  inflating: reuters21578/reut2-011.sgm  \n",
      "  inflating: reuters21578/reut2-010.sgm  \n",
      "  inflating: reuters21578/reut2-007.sgm  \n",
      "  inflating: reuters21578/reut2-008.sgm  \n",
      "  inflating: reuters21578/reut2-006.sgm  \n",
      "  inflating: reuters21578/reut2-009.sgm  \n",
      "  inflating: reuters21578/reut2-005.sgm  \n",
      "  inflating: reuters21578/reut2-003.sgm  \n",
      "  inflating: reuters21578/reut2-004.sgm  \n",
      "  inflating: reuters21578/reut2-002.sgm  \n",
      "  inflating: reuters21578/reut2-000.sgm  \n",
      "  inflating: reuters21578/reut2-001.sgm  \n",
      "  inflating: reuters21578/reut2-019.sgm  \n"
     ]
    }
   ],
   "source": [
    "download_dataset()"
   ]
  },
  {
   "cell_type": "markdown",
   "metadata": {
    "id": "RrKkIklBucv1"
   },
   "source": [
    "# Parse the documents and create a pandas dataframe with all features\n",
    "\n"
   ]
  },
  {
   "cell_type": "markdown",
   "metadata": {
    "id": "9XpC0JIyxguB"
   },
   "source": [
    "******** Extract the following features for each document in the reuters data ****:\n",
    "\n",
    "```\n",
    "'cgisplit', 'lewissplit', 'newid', 'topics_bool','date','exchanges', 'orgs', 'people', 'places', 'title','text','topics'\n",
    "```\n",
    "\n",
    "*   `topic_bool`: tells whether the document has a topic or not\n",
    "*   `topics`: tells the topic name\n",
    "\n",
    "\n",
    "\n"
   ]
  },
  {
   "cell_type": "code",
   "execution_count": 8,
   "metadata": {
    "executionInfo": {
     "elapsed": 21,
     "status": "ok",
     "timestamp": 1637535628583,
     "user": {
      "displayName": "Kedir Ahmed",
      "photoUrl": "https://lh3.googleusercontent.com/a/default-user=s64",
      "userId": "01899746473495893701"
     },
     "user_tz": 300
    },
    "id": "tncR5aLlzN54"
   },
   "outputs": [],
   "source": [
    "# Create object for the reuters_util class\n",
    "utils_obj = reuters_util()"
   ]
  },
  {
   "cell_type": "code",
   "execution_count": 9,
   "metadata": {
    "colab": {
     "base_uri": "https://localhost:8080/"
    },
    "executionInfo": {
     "elapsed": 164427,
     "status": "ok",
     "timestamp": 1637535792992,
     "user": {
      "displayName": "Kedir Ahmed",
      "photoUrl": "https://lh3.googleusercontent.com/a/default-user=s64",
      "userId": "01899746473495893701"
     },
     "user_tz": 300
    },
    "id": "l4y8897rhNAq",
    "outputId": "d5bc9eca-be51-458e-8fcc-275e646f912c"
   },
   "outputs": [
    {
     "name": "stdout",
     "output_type": "stream",
     "text": [
      "parsing reut2-000.sgm\n",
      "parsing reut2-001.sgm\n",
      "parsing reut2-002.sgm\n",
      "parsing reut2-003.sgm\n",
      "parsing reut2-004.sgm\n",
      "parsing reut2-005.sgm\n",
      "parsing reut2-006.sgm\n",
      "parsing reut2-007.sgm\n",
      "parsing reut2-008.sgm\n",
      "parsing reut2-009.sgm\n",
      "parsing reut2-010.sgm\n",
      "parsing reut2-011.sgm\n",
      "parsing reut2-012.sgm\n",
      "parsing reut2-013.sgm\n",
      "parsing reut2-014.sgm\n",
      "parsing reut2-015.sgm\n",
      "parsing reut2-016.sgm\n",
      "parsing reut2-017.sgm\n",
      "parsing reut2-018.sgm\n",
      "parsing reut2-019.sgm\n",
      "parsing reut2-020.sgm\n"
     ]
    }
   ],
   "source": [
    "col_name = ['cgisplit', 'lewissplit', 'newid', 'topics_bool','date','exchanges', 'orgs', 'people', 'places', 'title','text','topics']\n",
    "\n",
    "reuters_df = pd.DataFrame(columns=col_name)\n",
    "files = os.listdir(pathdir)\n",
    "files.sort()\n",
    "for doc in files:\n",
    "  if doc.endswith(\"sgm\"):\n",
    "    print(\"parsing {}\".format(doc))\n",
    "    doc_path = os.path.join(pathdir, doc)\n",
    "    reuters_df = utils_obj.parse_doc(doc_path, col_name, reuters_df)"
   ]
  },
  {
   "cell_type": "code",
   "execution_count": 10,
   "metadata": {
    "colab": {
     "base_uri": "https://localhost:8080/",
     "height": 470
    },
    "executionInfo": {
     "elapsed": 14,
     "status": "ok",
     "timestamp": 1637535792994,
     "user": {
      "displayName": "Kedir Ahmed",
      "photoUrl": "https://lh3.googleusercontent.com/a/default-user=s64",
      "userId": "01899746473495893701"
     },
     "user_tz": 300
    },
    "id": "EvKmsQC2jga6",
    "outputId": "d478e2df-261b-47a1-be96-77749a89b3e1"
   },
   "outputs": [
    {
     "data": {
      "text/html": [
       "<div>\n",
       "<style scoped>\n",
       "    .dataframe tbody tr th:only-of-type {\n",
       "        vertical-align: middle;\n",
       "    }\n",
       "\n",
       "    .dataframe tbody tr th {\n",
       "        vertical-align: top;\n",
       "    }\n",
       "\n",
       "    .dataframe thead th {\n",
       "        text-align: right;\n",
       "    }\n",
       "</style>\n",
       "<table border=\"1\" class=\"dataframe\">\n",
       "  <thead>\n",
       "    <tr style=\"text-align: right;\">\n",
       "      <th></th>\n",
       "      <th>cgisplit</th>\n",
       "      <th>lewissplit</th>\n",
       "      <th>newid</th>\n",
       "      <th>topics_bool</th>\n",
       "      <th>date</th>\n",
       "      <th>exchanges</th>\n",
       "      <th>orgs</th>\n",
       "      <th>people</th>\n",
       "      <th>places</th>\n",
       "      <th>title</th>\n",
       "      <th>text</th>\n",
       "      <th>topics</th>\n",
       "    </tr>\n",
       "  </thead>\n",
       "  <tbody>\n",
       "    <tr>\n",
       "      <th>0</th>\n",
       "      <td>TRAINING-SET</td>\n",
       "      <td>TRAIN</td>\n",
       "      <td>1</td>\n",
       "      <td>YES</td>\n",
       "      <td>26-FEB-1987 15:01:01.79</td>\n",
       "      <td>None</td>\n",
       "      <td>None</td>\n",
       "      <td>None</td>\n",
       "      <td>[el-salvador, usa, uruguay]</td>\n",
       "      <td>BAHIA COCOA REVIEW</td>\n",
       "      <td>Showers continued throughout the week in\\nthe ...</td>\n",
       "      <td>[cocoa]</td>\n",
       "    </tr>\n",
       "    <tr>\n",
       "      <th>1</th>\n",
       "      <td>TRAINING-SET</td>\n",
       "      <td>TRAIN</td>\n",
       "      <td>2</td>\n",
       "      <td>NO</td>\n",
       "      <td>26-FEB-1987 15:02:20.00</td>\n",
       "      <td>None</td>\n",
       "      <td>None</td>\n",
       "      <td>None</td>\n",
       "      <td>[usa]</td>\n",
       "      <td>STANDARD OIL &lt;SRD&gt; TO FORM FINANCIAL UNIT</td>\n",
       "      <td>Standard Oil Co and BP North America\\nInc said...</td>\n",
       "      <td>None</td>\n",
       "    </tr>\n",
       "    <tr>\n",
       "      <th>2</th>\n",
       "      <td>TRAINING-SET</td>\n",
       "      <td>TRAIN</td>\n",
       "      <td>3</td>\n",
       "      <td>NO</td>\n",
       "      <td>26-FEB-1987 15:03:27.51</td>\n",
       "      <td>None</td>\n",
       "      <td>None</td>\n",
       "      <td>None</td>\n",
       "      <td>[usa]</td>\n",
       "      <td>TEXAS COMMERCE BANCSHARES &lt;TCB&gt; FILES PLAN</td>\n",
       "      <td>Texas Commerce Bancshares Inc's Texas\\nCommerc...</td>\n",
       "      <td>None</td>\n",
       "    </tr>\n",
       "    <tr>\n",
       "      <th>3</th>\n",
       "      <td>TRAINING-SET</td>\n",
       "      <td>TRAIN</td>\n",
       "      <td>4</td>\n",
       "      <td>NO</td>\n",
       "      <td>26-FEB-1987 15:07:13.72</td>\n",
       "      <td>None</td>\n",
       "      <td>None</td>\n",
       "      <td>None</td>\n",
       "      <td>[usa, brazil]</td>\n",
       "      <td>TALKING POINT/BANKAMERICA &lt;BAC&gt; EQUITY OFFER</td>\n",
       "      <td>BankAmerica Corp is not under\\npressure to act...</td>\n",
       "      <td>None</td>\n",
       "    </tr>\n",
       "    <tr>\n",
       "      <th>4</th>\n",
       "      <td>TRAINING-SET</td>\n",
       "      <td>TRAIN</td>\n",
       "      <td>5</td>\n",
       "      <td>YES</td>\n",
       "      <td>26-FEB-1987 15:10:44.60</td>\n",
       "      <td>None</td>\n",
       "      <td>None</td>\n",
       "      <td>None</td>\n",
       "      <td>[usa]</td>\n",
       "      <td>NATIONAL AVERAGE PRICES FOR FARMER-OWNED RESERVE</td>\n",
       "      <td>The U.S. Agriculture Department\\nreported the ...</td>\n",
       "      <td>[grain, wheat, corn, barley, oat, sorghum]</td>\n",
       "    </tr>\n",
       "  </tbody>\n",
       "</table>\n",
       "</div>"
      ],
      "text/plain": [
       "       cgisplit  ...                                      topics\n",
       "0  TRAINING-SET  ...                                     [cocoa]\n",
       "1  TRAINING-SET  ...                                        None\n",
       "2  TRAINING-SET  ...                                        None\n",
       "3  TRAINING-SET  ...                                        None\n",
       "4  TRAINING-SET  ...  [grain, wheat, corn, barley, oat, sorghum]\n",
       "\n",
       "[5 rows x 12 columns]"
      ]
     },
     "execution_count": 10,
     "metadata": {},
     "output_type": "execute_result"
    }
   ],
   "source": [
    "reuters_df.head()"
   ]
  },
  {
   "cell_type": "code",
   "execution_count": 11,
   "metadata": {
    "colab": {
     "base_uri": "https://localhost:8080/"
    },
    "executionInfo": {
     "elapsed": 18,
     "status": "ok",
     "timestamp": 1637535793176,
     "user": {
      "displayName": "Kedir Ahmed",
      "photoUrl": "https://lh3.googleusercontent.com/a/default-user=s64",
      "userId": "01899746473495893701"
     },
     "user_tz": 300
    },
    "id": "1GvTs1cDncCm",
    "outputId": "3b4f3f29-b31e-4d30-a667-30750a1e647e"
   },
   "outputs": [
    {
     "name": "stdout",
     "output_type": "stream",
     "text": [
      "<class 'pandas.core.frame.DataFrame'>\n",
      "Int64Index: 21000 entries, 0 to 20999\n",
      "Data columns (total 12 columns):\n",
      " #   Column       Non-Null Count  Dtype \n",
      "---  ------       --------------  ----- \n",
      " 0   cgisplit     21000 non-null  object\n",
      " 1   lewissplit   21000 non-null  object\n",
      " 2   newid        21000 non-null  object\n",
      " 3   topics_bool  21000 non-null  object\n",
      " 4   date         21000 non-null  object\n",
      " 5   exchanges    459 non-null    object\n",
      " 6   orgs         876 non-null    object\n",
      " 7   people       1129 non-null   object\n",
      " 8   places       18333 non-null  object\n",
      " 9   title        20266 non-null  object\n",
      " 10  text         21000 non-null  object\n",
      " 11  topics       11038 non-null  object\n",
      "dtypes: object(12)\n",
      "memory usage: 2.1+ MB\n"
     ]
    }
   ],
   "source": [
    "reuters_df.info()"
   ]
  },
  {
   "cell_type": "markdown",
   "metadata": {
    "id": "XFpVNw_C09_I"
   },
   "source": [
    "# Exploratory Data Analysis\n"
   ]
  },
  {
   "cell_type": "code",
   "execution_count": 12,
   "metadata": {
    "colab": {
     "base_uri": "https://localhost:8080/",
     "height": 470
    },
    "executionInfo": {
     "elapsed": 10,
     "status": "ok",
     "timestamp": 1637535793177,
     "user": {
      "displayName": "Kedir Ahmed",
      "photoUrl": "https://lh3.googleusercontent.com/a/default-user=s64",
      "userId": "01899746473495893701"
     },
     "user_tz": 300
    },
    "id": "j79DaS7o1AGf",
    "outputId": "3032f60c-c5b5-4aa5-c353-d816d687263f"
   },
   "outputs": [
    {
     "data": {
      "text/html": [
       "<div>\n",
       "<style scoped>\n",
       "    .dataframe tbody tr th:only-of-type {\n",
       "        vertical-align: middle;\n",
       "    }\n",
       "\n",
       "    .dataframe tbody tr th {\n",
       "        vertical-align: top;\n",
       "    }\n",
       "\n",
       "    .dataframe thead th {\n",
       "        text-align: right;\n",
       "    }\n",
       "</style>\n",
       "<table border=\"1\" class=\"dataframe\">\n",
       "  <thead>\n",
       "    <tr style=\"text-align: right;\">\n",
       "      <th></th>\n",
       "      <th>cgisplit</th>\n",
       "      <th>lewissplit</th>\n",
       "      <th>newid</th>\n",
       "      <th>topics_bool</th>\n",
       "      <th>date</th>\n",
       "      <th>exchanges</th>\n",
       "      <th>orgs</th>\n",
       "      <th>people</th>\n",
       "      <th>places</th>\n",
       "      <th>title</th>\n",
       "      <th>text</th>\n",
       "      <th>topics</th>\n",
       "    </tr>\n",
       "  </thead>\n",
       "  <tbody>\n",
       "    <tr>\n",
       "      <th>0</th>\n",
       "      <td>TRAINING-SET</td>\n",
       "      <td>TRAIN</td>\n",
       "      <td>1</td>\n",
       "      <td>YES</td>\n",
       "      <td>26-FEB-1987 15:01:01.79</td>\n",
       "      <td>None</td>\n",
       "      <td>None</td>\n",
       "      <td>None</td>\n",
       "      <td>[el-salvador, usa, uruguay]</td>\n",
       "      <td>BAHIA COCOA REVIEW</td>\n",
       "      <td>Showers continued throughout the week in\\nthe ...</td>\n",
       "      <td>[cocoa]</td>\n",
       "    </tr>\n",
       "    <tr>\n",
       "      <th>1</th>\n",
       "      <td>TRAINING-SET</td>\n",
       "      <td>TRAIN</td>\n",
       "      <td>2</td>\n",
       "      <td>NO</td>\n",
       "      <td>26-FEB-1987 15:02:20.00</td>\n",
       "      <td>None</td>\n",
       "      <td>None</td>\n",
       "      <td>None</td>\n",
       "      <td>[usa]</td>\n",
       "      <td>STANDARD OIL &lt;SRD&gt; TO FORM FINANCIAL UNIT</td>\n",
       "      <td>Standard Oil Co and BP North America\\nInc said...</td>\n",
       "      <td>None</td>\n",
       "    </tr>\n",
       "    <tr>\n",
       "      <th>2</th>\n",
       "      <td>TRAINING-SET</td>\n",
       "      <td>TRAIN</td>\n",
       "      <td>3</td>\n",
       "      <td>NO</td>\n",
       "      <td>26-FEB-1987 15:03:27.51</td>\n",
       "      <td>None</td>\n",
       "      <td>None</td>\n",
       "      <td>None</td>\n",
       "      <td>[usa]</td>\n",
       "      <td>TEXAS COMMERCE BANCSHARES &lt;TCB&gt; FILES PLAN</td>\n",
       "      <td>Texas Commerce Bancshares Inc's Texas\\nCommerc...</td>\n",
       "      <td>None</td>\n",
       "    </tr>\n",
       "    <tr>\n",
       "      <th>3</th>\n",
       "      <td>TRAINING-SET</td>\n",
       "      <td>TRAIN</td>\n",
       "      <td>4</td>\n",
       "      <td>NO</td>\n",
       "      <td>26-FEB-1987 15:07:13.72</td>\n",
       "      <td>None</td>\n",
       "      <td>None</td>\n",
       "      <td>None</td>\n",
       "      <td>[usa, brazil]</td>\n",
       "      <td>TALKING POINT/BANKAMERICA &lt;BAC&gt; EQUITY OFFER</td>\n",
       "      <td>BankAmerica Corp is not under\\npressure to act...</td>\n",
       "      <td>None</td>\n",
       "    </tr>\n",
       "    <tr>\n",
       "      <th>4</th>\n",
       "      <td>TRAINING-SET</td>\n",
       "      <td>TRAIN</td>\n",
       "      <td>5</td>\n",
       "      <td>YES</td>\n",
       "      <td>26-FEB-1987 15:10:44.60</td>\n",
       "      <td>None</td>\n",
       "      <td>None</td>\n",
       "      <td>None</td>\n",
       "      <td>[usa]</td>\n",
       "      <td>NATIONAL AVERAGE PRICES FOR FARMER-OWNED RESERVE</td>\n",
       "      <td>The U.S. Agriculture Department\\nreported the ...</td>\n",
       "      <td>[grain, wheat, corn, barley, oat, sorghum]</td>\n",
       "    </tr>\n",
       "  </tbody>\n",
       "</table>\n",
       "</div>"
      ],
      "text/plain": [
       "       cgisplit  ...                                      topics\n",
       "0  TRAINING-SET  ...                                     [cocoa]\n",
       "1  TRAINING-SET  ...                                        None\n",
       "2  TRAINING-SET  ...                                        None\n",
       "3  TRAINING-SET  ...                                        None\n",
       "4  TRAINING-SET  ...  [grain, wheat, corn, barley, oat, sorghum]\n",
       "\n",
       "[5 rows x 12 columns]"
      ]
     },
     "execution_count": 12,
     "metadata": {},
     "output_type": "execute_result"
    }
   ],
   "source": [
    "reuters_df.head()"
   ]
  },
  {
   "cell_type": "code",
   "execution_count": 13,
   "metadata": {
    "executionInfo": {
     "elapsed": 10,
     "status": "ok",
     "timestamp": 1637535793178,
     "user": {
      "displayName": "Kedir Ahmed",
      "photoUrl": "https://lh3.googleusercontent.com/a/default-user=s64",
      "userId": "01899746473495893701"
     },
     "user_tz": 300
    },
    "id": "5RSMfh1aPUfo"
   },
   "outputs": [],
   "source": [
    "def frequecy_dist(col_name, df):\n",
    "  dic = {}\n",
    "  for val in df[col_name]:\n",
    "    try:\n",
    "      for j in val:\n",
    "        if j in dic.keys():\n",
    "          dic[j.lower()] += 1\n",
    "        else:\n",
    "          dic[j.lower()] = 1\n",
    "    except TypeError:\n",
    "      continue\n",
    "  return pd.Series(dic).sort_values(ascending=False)"
   ]
  },
  {
   "cell_type": "code",
   "execution_count": 14,
   "metadata": {
    "colab": {
     "base_uri": "https://localhost:8080/",
     "height": 342
    },
    "executionInfo": {
     "elapsed": 357,
     "status": "ok",
     "timestamp": 1637535793526,
     "user": {
      "displayName": "Kedir Ahmed",
      "photoUrl": "https://lh3.googleusercontent.com/a/default-user=s64",
      "userId": "01899746473495893701"
     },
     "user_tz": 300
    },
    "id": "5tiaL_83f9Us",
    "outputId": "fee9cd4f-d6ed-42cd-c903-bed268bd4f37"
   },
   "outputs": [
    {
     "data": {
      "image/png": "[encoded data removed]",
      "text/plain": [
       "<Figure size 432x288 with 1 Axes>"
      ]
     },
     "metadata": {
      "needs_background": "light"
     },
     "output_type": "display_data"
    }
   ],
   "source": [
    "places = frequecy_dist('places', reuters_df)\n",
    "places[0:10].plot.bar()\n",
    "plt.title('Top 10 place mention in reuters articles')\n",
    "plt.show()"
   ]
  },
  {
   "cell_type": "markdown",
   "metadata": {
    "id": "afiouS-nm9SE"
   },
   "source": [
    "- From the above chart, we can see that most \n",
    " articles contain news from the United States, UK, Japan, and Canada. "
   ]
  },
  {
   "cell_type": "code",
   "execution_count": 15,
   "metadata": {
    "colab": {
     "base_uri": "https://localhost:8080/",
     "height": 280
    },
    "executionInfo": {
     "elapsed": 287,
     "status": "ok",
     "timestamp": 1637535793809,
     "user": {
      "displayName": "Kedir Ahmed",
      "photoUrl": "https://lh3.googleusercontent.com/a/default-user=s64",
      "userId": "01899746473495893701"
     },
     "user_tz": 300
    },
    "id": "yLxbaX6IlPTR",
    "outputId": "90f44388-452d-4cfc-a9fb-fa78d47bf49c"
   },
   "outputs": [
    {
     "data": {
      "image/png": "[encoded data removed]",
      "text/plain": [
       "<Figure size 432x288 with 1 Axes>"
      ]
     },
     "metadata": {
      "needs_background": "light"
     },
     "output_type": "display_data"
    }
   ],
   "source": [
    "orgs = frequecy_dist('orgs', reuters_df)\n",
    "orgs[0:10].plot.barh()\n",
    "plt.title('Top 10 organizations mention in reuters articles')\n",
    "plt.show()"
   ]
  },
  {
   "cell_type": "markdown",
   "metadata": {
    "id": "GtG1p-c_oP1K"
   },
   "source": [
    "- From the above graph we can see that Eureopean Commission(ec), IMF, and Opec are the most organizations mentioned in reuters articles."
   ]
  },
  {
   "cell_type": "code",
   "execution_count": 16,
   "metadata": {
    "colab": {
     "base_uri": "https://localhost:8080/",
     "height": 280
    },
    "executionInfo": {
     "elapsed": 153,
     "status": "ok",
     "timestamp": 1637535793957,
     "user": {
      "displayName": "Kedir Ahmed",
      "photoUrl": "https://lh3.googleusercontent.com/a/default-user=s64",
      "userId": "01899746473495893701"
     },
     "user_tz": 300
    },
    "id": "6eHbf4bLmQ4G",
    "outputId": "e9fca24c-3b50-432f-9b4a-04010745daf3"
   },
   "outputs": [
    {
     "data": {
      "image/png": "[encoded data removed]",
      "text/plain": [
       "<Figure size 432x288 with 1 Axes>"
      ]
     },
     "metadata": {
      "needs_background": "light"
     },
     "output_type": "display_data"
    }
   ],
   "source": [
    "people = frequecy_dist('people', reuters_df)\n",
    "people[0:10].plot.barh()\n",
    "plt.title('Top 10 persons mention in reuters articles')\n",
    "plt.show()"
   ]
  },
  {
   "cell_type": "markdown",
   "metadata": {
    "id": "rZUPQxA5qxqC"
   },
   "source": [
    "- From the above chart we can see that Reagan and James Baker was the most mentioned persons in the article."
   ]
  },
  {
   "cell_type": "code",
   "execution_count": 17,
   "metadata": {
    "colab": {
     "base_uri": "https://localhost:8080/",
     "height": 280
    },
    "executionInfo": {
     "elapsed": 286,
     "status": "ok",
     "timestamp": 1637535794367,
     "user": {
      "displayName": "Kedir Ahmed",
      "photoUrl": "https://lh3.googleusercontent.com/a/default-user=s64",
      "userId": "01899746473495893701"
     },
     "user_tz": 300
    },
    "id": "2gazGYxtqwLL",
    "outputId": "17109a73-2fc9-4d4a-b8f8-0cd6b073aa88"
   },
   "outputs": [
    {
     "data": {
      "image/png": "[encoded data removed]",
      "text/plain": [
       "<Figure size 432x288 with 1 Axes>"
      ]
     },
     "metadata": {
      "needs_background": "light"
     },
     "output_type": "display_data"
    }
   ],
   "source": [
    "topics = frequecy_dist('topics', reuters_df)\n",
    "topics[0:10].plot.barh()\n",
    "plt.title('Top 10 topics mention in reuters articles')\n",
    "plt.show()"
   ]
  },
  {
   "cell_type": "markdown",
   "metadata": {
    "id": "uq4bB3UBsUoC"
   },
   "source": [
    "- From the above chart you can see that most of the reuter's articles focus on the topics:\n",
    " 1. EARN(Earnings and Earnings Forecasts)\n",
    " 2. ACQ(Mergers/Acquisitions) topics.\n"
   ]
  },
  {
   "cell_type": "code",
   "execution_count": 18,
   "metadata": {
    "executionInfo": {
     "elapsed": 15,
     "status": "ok",
     "timestamp": 1637535794369,
     "user": {
      "displayName": "Kedir Ahmed",
      "photoUrl": "https://lh3.googleusercontent.com/a/default-user=s64",
      "userId": "01899746473495893701"
     },
     "user_tz": 300
    },
    "id": "lEUnBM5GxFQ0"
   },
   "outputs": [],
   "source": [
    "# documents which mentioned earn topics\n",
    "df_earn = reuters_df[reuters_df['topics'].apply(lambda x : True if ('earn' in str(x)) else False)]"
   ]
  },
  {
   "cell_type": "code",
   "execution_count": 19,
   "metadata": {
    "colab": {
     "base_uri": "https://localhost:8080/"
    },
    "executionInfo": {
     "elapsed": 13,
     "status": "ok",
     "timestamp": 1637535794370,
     "user": {
      "displayName": "Kedir Ahmed",
      "photoUrl": "https://lh3.googleusercontent.com/a/default-user=s64",
      "userId": "01899746473495893701"
     },
     "user_tz": 300
    },
    "id": "pA7PgeUE8jnN",
    "outputId": "eb184d5d-6d27-47af-d2e9-3fd8dc3c044c"
   },
   "outputs": [
    {
     "name": "stdout",
     "output_type": "stream",
     "text": [
      "<class 'pandas.core.frame.DataFrame'>\n",
      "Int64Index: 3836 entries, 8 to 20987\n",
      "Data columns (total 12 columns):\n",
      " #   Column       Non-Null Count  Dtype \n",
      "---  ------       --------------  ----- \n",
      " 0   cgisplit     3836 non-null   object\n",
      " 1   lewissplit   3836 non-null   object\n",
      " 2   newid        3836 non-null   object\n",
      " 3   topics_bool  3836 non-null   object\n",
      " 4   date         3836 non-null   object\n",
      " 5   exchanges    3 non-null      object\n",
      " 6   orgs         0 non-null      object\n",
      " 7   people       0 non-null      object\n",
      " 8   places       3663 non-null   object\n",
      " 9   title        3814 non-null   object\n",
      " 10  text         3836 non-null   object\n",
      " 11  topics       3836 non-null   object\n",
      "dtypes: object(12)\n",
      "memory usage: 389.6+ KB\n"
     ]
    }
   ],
   "source": [
    "df_earn.info()"
   ]
  },
  {
   "cell_type": "markdown",
   "metadata": {
    "id": "9rw9uucK8_Xw"
   },
   "source": [
    "- The insight we get from the above table that there is no single organization directly mention in EARN topics."
   ]
  },
  {
   "cell_type": "code",
   "execution_count": 20,
   "metadata": {
    "colab": {
     "base_uri": "https://localhost:8080/",
     "height": 280
    },
    "executionInfo": {
     "elapsed": 271,
     "status": "ok",
     "timestamp": 1637535794634,
     "user": {
      "displayName": "Kedir Ahmed",
      "photoUrl": "https://lh3.googleusercontent.com/a/default-user=s64",
      "userId": "01899746473495893701"
     },
     "user_tz": 300
    },
    "id": "o2a-KL1Ow3YE",
    "outputId": "be093bd9-ca5f-4877-f407-9d45adab75ef"
   },
   "outputs": [
    {
     "data": {
      "image/png": "[encoded data removed]",
      "text/plain": [
       "<Figure size 432x288 with 1 Axes>"
      ]
     },
     "metadata": {
      "needs_background": "light"
     },
     "output_type": "display_data"
    }
   ],
   "source": [
    "earn_places = frequecy_dist('places', df_earn)\n",
    "earn_places[0:10].plot.barh()\n",
    "plt.title('Top 10 Places mention in EARN topics')\n",
    "plt.show()"
   ]
  },
  {
   "cell_type": "markdown",
   "metadata": {
    "id": "vhipNMk993hf"
   },
   "source": [
    "- The insight you can get from the above chart that USA, Canada, Uk, and West Germany are top places mention in EARN topics."
   ]
  },
  {
   "cell_type": "code",
   "execution_count": 21,
   "metadata": {
    "colab": {
     "base_uri": "https://localhost:8080/",
     "height": 334
    },
    "executionInfo": {
     "elapsed": 166,
     "status": "ok",
     "timestamp": 1637535794794,
     "user": {
      "displayName": "Kedir Ahmed",
      "photoUrl": "https://lh3.googleusercontent.com/a/default-user=s64",
      "userId": "01899746473495893701"
     },
     "user_tz": 300
    },
    "id": "4iLrGMt_AjDG",
    "outputId": "5b26c40f-82cc-457e-f7b2-edb1c1090152"
   },
   "outputs": [
    {
     "data": {
      "image/png": "[encoded data removed]",
      "text/plain": [
       "<Figure size 432x288 with 1 Axes>"
      ]
     },
     "metadata": {
      "needs_background": "light"
     },
     "output_type": "display_data"
    }
   ],
   "source": [
    "reuters_df[(reuters_df['topics_bool']=='NO') & (reuters_df['topics'].notnull())]['topics'].value_counts().plot.bar()\n",
    "plt.title('Articles with topics_bool==NO')\n",
    "plt.show()\n"
   ]
  },
  {
   "cell_type": "markdown",
   "metadata": {
    "id": "-qGYG7FtCFDU"
   },
   "source": [
    "- The insight you can get from the above chart that there are 5 documents where topic was not expected to be assigned but they have."
   ]
  },
  {
   "cell_type": "code",
   "execution_count": 22,
   "metadata": {
    "colab": {
     "base_uri": "https://localhost:8080/",
     "height": 289
    },
    "executionInfo": {
     "elapsed": 275,
     "status": "ok",
     "timestamp": 1637535795062,
     "user": {
      "displayName": "Kedir Ahmed",
      "photoUrl": "https://lh3.googleusercontent.com/a/default-user=s64",
      "userId": "01899746473495893701"
     },
     "user_tz": 300
    },
    "id": "sZpjW8wVC3xD",
    "outputId": "8c74ec9e-b7aa-4fdb-aba5-3c61e0227ee8"
   },
   "outputs": [
    {
     "data": {
      "image/png": "[encoded data removed]",
      "text/plain": [
       "<Figure size 432x288 with 1 Axes>"
      ]
     },
     "metadata": {
      "needs_background": "light"
     },
     "output_type": "display_data"
    }
   ],
   "source": [
    "reuters_df[(reuters_df['topics_bool']=='YES') & (reuters_df['topics'].isnull())]['topics'].value_counts(dropna=False).plot.bar()\n",
    "plt.title('Articls with no topics assigned')\n",
    "plt.show()\n"
   ]
  },
  {
   "cell_type": "markdown",
   "metadata": {
    "id": "j30bkdJMJwSx"
   },
   "source": [
    "- From the above graph we can see that there are around 2000 documents where it says it has a topic but there is no topic assigned to these documents.\n",
    "\n",
    "\n"
   ]
  },
  {
   "cell_type": "markdown",
   "metadata": {
    "id": "BzG4KTV4KnPs"
   },
   "source": [
    "# EDA Summery \n",
    "- The above EDA also shows us the majority of the documents are categorized under EARN topics which can tell that it is even possible to have a binary class EARN or Others. The main target here is to correctly classify documents which belong to the earn class.\n",
    "- There are documents where they are supposed to have a topic but they don't. we need to remove this document from the training data. The reverse also happens but we keep the document because they have a topic.\n",
    "- All documents which belong to the EARN class don't have a mention of Organization. Hence such attributes aren't useful for our target.\n"
   ]
  },
  {
   "cell_type": "markdown",
   "metadata": {
    "id": "oECILFcSzQcH"
   },
   "source": [
    "\n",
    "# Clean the dataframe\n",
    "\n"
   ]
  },
  {
   "cell_type": "code",
   "execution_count": 23,
   "metadata": {
    "executionInfo": {
     "elapsed": 559,
     "status": "ok",
     "timestamp": 1637535795616,
     "user": {
      "displayName": "Kedir Ahmed",
      "photoUrl": "https://lh3.googleusercontent.com/a/default-user=s64",
      "userId": "01899746473495893701"
     },
     "user_tz": 300
    },
    "id": "5cunxtZzSwzm"
   },
   "outputs": [],
   "source": [
    "reuters_df = utils_obj.clean_data(reuters_df.copy())"
   ]
  },
  {
   "cell_type": "code",
   "execution_count": 23,
   "metadata": {
    "executionInfo": {
     "elapsed": 13,
     "status": "ok",
     "timestamp": 1637535795617,
     "user": {
      "displayName": "Kedir Ahmed",
      "photoUrl": "https://lh3.googleusercontent.com/a/default-user=s64",
      "userId": "01899746473495893701"
     },
     "user_tz": 300
    },
    "id": "NrVZx1OF2TC2"
   },
   "outputs": [],
   "source": []
  },
  {
   "cell_type": "markdown",
   "metadata": {
    "id": "_Rjvx5RV2mQe"
   },
   "source": [
    "# Generate text embedding for the documents\n",
    "\n",
    "\n"
   ]
  },
  {
   "cell_type": "code",
   "execution_count": 24,
   "metadata": {
    "executionInfo": {
     "elapsed": 13,
     "status": "ok",
     "timestamp": 1637535795618,
     "user": {
      "displayName": "Kedir Ahmed",
      "photoUrl": "https://lh3.googleusercontent.com/a/default-user=s64",
      "userId": "01899746473495893701"
     },
     "user_tz": 300
    },
    "id": "qtfxMUXp1qWN"
   },
   "outputs": [],
   "source": [
    "# Drop unnecessary columns \n",
    "col_drop = ['date', 'exchanges','orgs', 'people', 'places']\n",
    "reuters_df = reuters_df.drop(columns=col_drop, axis=1)"
   ]
  },
  {
   "cell_type": "code",
   "execution_count": 25,
   "metadata": {
    "colab": {
     "base_uri": "https://localhost:8080/"
    },
    "executionInfo": {
     "elapsed": 14,
     "status": "ok",
     "timestamp": 1637535795620,
     "user": {
      "displayName": "Kedir Ahmed",
      "photoUrl": "https://lh3.googleusercontent.com/a/default-user=s64",
      "userId": "01899746473495893701"
     },
     "user_tz": 300
    },
    "id": "3D9F4Vd3wl2e",
    "outputId": "b4003592-afbe-4124-d24a-4047b3370736"
   },
   "outputs": [
    {
     "name": "stdout",
     "output_type": "stream",
     "text": [
      "<class 'pandas.core.frame.DataFrame'>\n",
      "Int64Index: 21000 entries, 0 to 20999\n",
      "Data columns (total 7 columns):\n",
      " #   Column       Non-Null Count  Dtype \n",
      "---  ------       --------------  ----- \n",
      " 0   cgisplit     21000 non-null  object\n",
      " 1   lewissplit   21000 non-null  object\n",
      " 2   newid        21000 non-null  object\n",
      " 3   topics_bool  21000 non-null  object\n",
      " 4   title        21000 non-null  object\n",
      " 5   text         21000 non-null  object\n",
      " 6   topics       11038 non-null  object\n",
      "dtypes: object(7)\n",
      "memory usage: 1.3+ MB\n"
     ]
    }
   ],
   "source": [
    "reuters_df.info()"
   ]
  },
  {
   "cell_type": "markdown",
   "metadata": {
    "id": "JKonRG6-3MJq"
   },
   "source": [
    "- **GPU configuration**"
   ]
  },
  {
   "cell_type": "code",
   "execution_count": 26,
   "metadata": {
    "colab": {
     "base_uri": "https://localhost:8080/"
    },
    "executionInfo": {
     "elapsed": 145,
     "status": "ok",
     "timestamp": 1637535815906,
     "user": {
      "displayName": "Kedir Ahmed",
      "photoUrl": "https://lh3.googleusercontent.com/a/default-user=s64",
      "userId": "01899746473495893701"
     },
     "user_tz": 300
    },
    "id": "gQa6kuIFrFSI",
    "outputId": "8b03ed1c-8c27-4aed-b767-a4df6bf5055f"
   },
   "outputs": [
    {
     "name": "stdout",
     "output_type": "stream",
     "text": [
      "Found GPU at: /device:GPU:0\n",
      "There are 1 GPU(s) available.\n",
      "We will use the GPU: Tesla K80\n"
     ]
    }
   ],
   "source": [
    "utils_obj.gpu_config()"
   ]
  },
  {
   "cell_type": "markdown",
   "metadata": {
    "id": "pir1GmmP3oiz"
   },
   "source": [
    "- **Initialize prebuilt models to do the embeddings**\n",
    "\n",
    "1.   BERT tokenizer\n",
    "2.   DistilBERT\n",
    "3.   NLTK"
   ]
  },
  {
   "cell_type": "code",
   "execution_count": 27,
   "metadata": {
    "colab": {
     "base_uri": "https://localhost:8080/",
     "height": 317,
     "referenced_widgets": [
      "069d16e23dc1409184e6ce4a86cb23f0",
      "32fae548ef414614995ce0eed3318d6a",
      "fa520b6dd0a043c7aaf41bf80f99bd86",
      "68760a7ba95c4fbc95a9cb56d88b1a81",
      "4374d061796241b089a6dcb6b44127b2",
      "4541722e182c42509531409e51e0dc84",
      "5310047ef8ea4427864f3511fa242f29",
      "f576eb696b7e4217befa06c19c2d1f94",
      "d1769ca956594dd8afdc9378037dbe0c",
      "3af5e1276a304ddb88b7a24708906d7e",
      "158abb65127b4740a3f431d41c576152",
      "0c6684e734ac4d348b2258dfd9e8641d",
      "4182ab1246454e70871a66b7fa633942",
      "5e324e6e63ff4c54b632f148615ad8c0",
      "f00dfc9e241f46a59599fe98f3350fa9",
      "3f9b44c1ea994898b26c134b16fd4787",
      "50afc09bdf7b4201a1f64ac9112f451b",
      "2f1a1b5bd2c94b1a8b95191b5710434a",
      "9c2e308cda234a9495825ff0d5b2436c",
      "420e99693b514a27aa7dc0f5023b0366",
      "c1af81d0cee344208b46a79cc5adcc81",
      "a0dfaf6bf55f4c15b8de8a034670f05e",
      "469379bb50c14040bfd7cbbc83d63556",
      "f0a791632f2449bb88c722318d9de66d",
      "1d561e25b91048d3a2db8b64f5d32bb5",
      "159158784e414691b54643626765c209",
      "bfefb1934d5745f98bcd5ffae867e643",
      "23607ccf541945bba352ecee5a0f908c",
      "9cacaf01d14643a18dd387eb1373fad4",
      "9000aa44559b414990e080a05f6a2682",
      "df27e35fe8aa45d3ba13182effec1ecb",
      "7297b8d6e5e14070b2360f5b48d913d3",
      "dd4c262f7e1046229410aa82839f9e8b",
      "570da6599fd94f2da683771bb67c9257",
      "9c6bcea3c4e0436793018b2f13a333df",
      "8377a71a381744f49af0e5799a23f16f",
      "85d36d4b653d4accbb62fc306b7e98e1",
      "b44a12eb32964bb9a894d8e0915bfa8b",
      "dd3de6dc4b7646d890eb1df3c1c1f552",
      "ea32bab658e6494487732614683adefe",
      "b8b91df50cac4bdeaf728c1982ef1f66",
      "370aaac57d674c5f98a61955c71e8aab",
      "56bc748ac70d4288b02eaf1293b89555",
      "c9f9d3972fa84196979576f098aa7ef0",
      "4be9a91fe660455199fcf0a5b6e24c41",
      "1146d7e991094552af6f6ae7645d7fce",
      "474309a581df4c5eb84b6bc64d6e32fc",
      "bee52762f8fe458fbe7d749378cf6f4a",
      "21133f419004447a87e0eb8e8f8ace5e",
      "8c349571cea54b74b5b1af68bd93ba1b",
      "32c67def1ab64a4dbe33675887dcdde2",
      "082e60290ad046e0b664b124ff414589",
      "905c132b12a04172af346be6a7e83c82",
      "1cb907d737db4324bfd1e9d959dcd001",
      "b7c3cb522d56421b8c79766a82fbf31e",
      "27020c84371f4486bd70e3fa291419ce",
      "6ab058f431d845f3b783326fe1bb00d3",
      "cec583b870dd4d8bae7a583dfd7491ee",
      "4dc13a315d8d47208796a2da86fac649",
      "1ef66d4774c745528df8ce935ac3799b",
      "5993cf9927714447839e9495df9195a8",
      "9959bf739e9241748246e568fa9720d0",
      "bfb14857af954d699516aad10749c80a",
      "7df3fe4082bb4da5836c0ec11a4dbd3e",
      "ec07b9cacdac48dfbc6ab4a69757fc3f",
      "2cda65bd6535488d8cee6da0283d10d6"
     ]
    },
    "executionInfo": {
     "elapsed": 18128,
     "status": "ok",
     "timestamp": 1637535834017,
     "user": {
      "displayName": "Kedir Ahmed",
      "photoUrl": "https://lh3.googleusercontent.com/a/default-user=s64",
      "userId": "01899746473495893701"
     },
     "user_tz": 300
    },
    "id": "BbAwc0NEmrO-",
    "outputId": "14a06602-6e0e-4378-fcbb-febbf07c2f4c"
   },
   "outputs": [
    {
     "data": {
      "application/vnd.jupyter.widget-view+json": {
       "model_id": "069d16e23dc1409184e6ce4a86cb23f0",
       "version_major": 2,
       "version_minor": 0
      },
      "text/plain": [
       "Downloading:   0%|          | 0.00/483 [00:00<?, ?B/s]"
      ]
     },
     "metadata": {},
     "output_type": "display_data"
    },
    {
     "data": {
      "application/vnd.jupyter.widget-view+json": {
       "model_id": "0c6684e734ac4d348b2258dfd9e8641d",
       "version_major": 2,
       "version_minor": 0
      },
      "text/plain": [
       "Downloading:   0%|          | 0.00/256M [00:00<?, ?B/s]"
      ]
     },
     "metadata": {},
     "output_type": "display_data"
    },
    {
     "name": "stderr",
     "output_type": "stream",
     "text": [
      "Some weights of the model checkpoint at distilbert-base-uncased were not used when initializing DistilBertModel: ['vocab_transform.bias', 'vocab_projector.bias', 'vocab_layer_norm.bias', 'vocab_transform.weight', 'vocab_layer_norm.weight', 'vocab_projector.weight']\n",
      "- This IS expected if you are initializing DistilBertModel from the checkpoint of a model trained on another task or with another architecture (e.g. initializing a BertForSequenceClassification model from a BertForPreTraining model).\n",
      "- This IS NOT expected if you are initializing DistilBertModel from the checkpoint of a model that you expect to be exactly identical (initializing a BertForSequenceClassification model from a BertForSequenceClassification model).\n"
     ]
    },
    {
     "data": {
      "application/vnd.jupyter.widget-view+json": {
       "model_id": "469379bb50c14040bfd7cbbc83d63556",
       "version_major": 2,
       "version_minor": 0
      },
      "text/plain": [
       "Downloading:   0%|          | 0.00/226k [00:00<?, ?B/s]"
      ]
     },
     "metadata": {},
     "output_type": "display_data"
    },
    {
     "data": {
      "application/vnd.jupyter.widget-view+json": {
       "model_id": "570da6599fd94f2da683771bb67c9257",
       "version_major": 2,
       "version_minor": 0
      },
      "text/plain": [
       "Downloading:   0%|          | 0.00/28.0 [00:00<?, ?B/s]"
      ]
     },
     "metadata": {},
     "output_type": "display_data"
    },
    {
     "data": {
      "application/vnd.jupyter.widget-view+json": {
       "model_id": "4be9a91fe660455199fcf0a5b6e24c41",
       "version_major": 2,
       "version_minor": 0
      },
      "text/plain": [
       "Downloading:   0%|          | 0.00/455k [00:00<?, ?B/s]"
      ]
     },
     "metadata": {},
     "output_type": "display_data"
    },
    {
     "data": {
      "application/vnd.jupyter.widget-view+json": {
       "model_id": "27020c84371f4486bd70e3fa291419ce",
       "version_major": 2,
       "version_minor": 0
      },
      "text/plain": [
       "Downloading:   0%|          | 0.00/570 [00:00<?, ?B/s]"
      ]
     },
     "metadata": {},
     "output_type": "display_data"
    },
    {
     "name": "stdout",
     "output_type": "stream",
     "text": [
      "[nltk_data] Downloading package punkt to /root/nltk_data...\n",
      "[nltk_data]   Unzipping tokenizers/punkt.zip.\n"
     ]
    }
   ],
   "source": [
    "utils_obj.initialize_prebuilt_models()"
   ]
  },
  {
   "cell_type": "code",
   "execution_count": 28,
   "metadata": {
    "colab": {
     "base_uri": "https://localhost:8080/"
    },
    "executionInfo": {
     "elapsed": 1062895,
     "status": "ok",
     "timestamp": 1637536896897,
     "user": {
      "displayName": "Kedir Ahmed",
      "photoUrl": "https://lh3.googleusercontent.com/a/default-user=s64",
      "userId": "01899746473495893701"
     },
     "user_tz": 300
    },
    "id": "KTBL2TW9zASW",
    "outputId": "35309509-9dfe-4ecd-a118-96cc2bad839c"
   },
   "outputs": [
    {
     "name": "stderr",
     "output_type": "stream",
     "text": [
      "/usr/local/lib/python3.7/dist-packages/transformers/tokenization_utils_base.py:2218: FutureWarning: The `pad_to_max_length` argument is deprecated and will be removed in a future version, use `padding=True` or `padding='longest'` to pad to the longest sequence in the batch, or use `padding='max_length'` to pad to a max length. In this case, you can give a specific length with `max_length` (e.g. `max_length=45`) or leave max_length to None to pad to the maximal input size of the model (e.g. 512 for Bert).\n",
      "  FutureWarning,\n"
     ]
    }
   ],
   "source": [
    "reuters_df['text_embedding'] = reuters_df['text'].apply(utils_obj.doc_to_vectors)"
   ]
  },
  {
   "cell_type": "code",
   "execution_count": 29,
   "metadata": {
    "colab": {
     "base_uri": "https://localhost:8080/"
    },
    "executionInfo": {
     "elapsed": 193112,
     "status": "ok",
     "timestamp": 1637537090004,
     "user": {
      "displayName": "Kedir Ahmed",
      "photoUrl": "https://lh3.googleusercontent.com/a/default-user=s64",
      "userId": "01899746473495893701"
     },
     "user_tz": 300
    },
    "id": "15hIcMB9rjWC",
    "outputId": "3cdadf1b-138d-43e9-b91f-b6126eb85573"
   },
   "outputs": [
    {
     "name": "stderr",
     "output_type": "stream",
     "text": [
      "/usr/local/lib/python3.7/dist-packages/transformers/tokenization_utils_base.py:2218: FutureWarning: The `pad_to_max_length` argument is deprecated and will be removed in a future version, use `padding=True` or `padding='longest'` to pad to the longest sequence in the batch, or use `padding='max_length'` to pad to a max length. In this case, you can give a specific length with `max_length` (e.g. `max_length=45`) or leave max_length to None to pad to the maximal input size of the model (e.g. 512 for Bert).\n",
      "  FutureWarning,\n"
     ]
    }
   ],
   "source": [
    "reuters_df['title_embedding'] = reuters_df['title'].apply(utils_obj.doc_to_vectors)"
   ]
  },
  {
   "cell_type": "code",
   "execution_count": 30,
   "metadata": {
    "colab": {
     "base_uri": "https://localhost:8080/"
    },
    "executionInfo": {
     "elapsed": 27,
     "status": "ok",
     "timestamp": 1637537090006,
     "user": {
      "displayName": "Kedir Ahmed",
      "photoUrl": "https://lh3.googleusercontent.com/a/default-user=s64",
      "userId": "01899746473495893701"
     },
     "user_tz": 300
    },
    "id": "eeBs9jiq3zV1",
    "outputId": "7ecf214c-b20d-44bf-dbc2-c077545fe980"
   },
   "outputs": [
    {
     "name": "stdout",
     "output_type": "stream",
     "text": [
      "<class 'pandas.core.frame.DataFrame'>\n",
      "Int64Index: 21000 entries, 0 to 20999\n",
      "Data columns (total 9 columns):\n",
      " #   Column           Non-Null Count  Dtype \n",
      "---  ------           --------------  ----- \n",
      " 0   cgisplit         21000 non-null  object\n",
      " 1   lewissplit       21000 non-null  object\n",
      " 2   newid            21000 non-null  object\n",
      " 3   topics_bool      21000 non-null  object\n",
      " 4   title            21000 non-null  object\n",
      " 5   text             21000 non-null  object\n",
      " 6   topics           11038 non-null  object\n",
      " 7   text_embedding   21000 non-null  object\n",
      " 8   title_embedding  21000 non-null  object\n",
      "dtypes: object(9)\n",
      "memory usage: 1.6+ MB\n"
     ]
    }
   ],
   "source": [
    "reuters_df.info()"
   ]
  },
  {
   "cell_type": "markdown",
   "metadata": {
    "id": "1vuIWmh7BusB"
   },
   "source": [
    "> # Prepare train and Test datasets\n"
   ]
  },
  {
   "cell_type": "code",
   "execution_count": 32,
   "metadata": {
    "executionInfo": {
     "elapsed": 120,
     "status": "ok",
     "timestamp": 1637538050540,
     "user": {
      "displayName": "Kedir Ahmed",
      "photoUrl": "https://lh3.googleusercontent.com/a/default-user=s64",
      "userId": "01899746473495893701"
     },
     "user_tz": 300
    },
    "id": "Rg1pfjhWxz0_"
   },
   "outputs": [],
   "source": [
    "def train_test_data_split(data):\n",
    "  pd.options.mode.chained_assignment = None  # default='warn'\n",
    "\n",
    "  # use ModApte train and test split technique\n",
    "  train_data = data[(data['lewissplit']=='TRAIN') & (data['topics_bool']=='YES')]\n",
    "\n",
    "  # screen out the training data with no TOPICS categories.\n",
    "  train_data = train_data.dropna(subset=['topics'])\n",
    "  train_data.reset_index(drop=True, inplace=True)\n",
    "\n",
    "  test_data = data[(data['lewissplit']=='TEST') & (data['topics_bool']=='YES')]\n",
    "  test_data.reset_index(drop=True, inplace=True)\n",
    "\n",
    "  # replace test data null value by zero list.\n",
    "  test_data['topics'] = test_data['topics'].fillna(0)\n",
    "\n",
    "  # divide the topics into a binary class earn or not earn. i.e earn=1, not_earn=0\n",
    "  train_data['topics'] = [1 if 'earn' in str(topic) else 0 for topic in train_data['topics']]\n",
    "  test_data['topics'] = [1 if 'earn' in str(topic) else 0 for topic in test_data['topics']]\n",
    "\n",
    "  train = utils_obj.generate_final_embedding(train_data)\n",
    "  test = utils_obj.generate_final_embedding(test_data)\n",
    "\n",
    "  return train, test"
   ]
  },
  {
   "cell_type": "code",
   "execution_count": 33,
   "metadata": {
    "executionInfo": {
     "elapsed": 12106,
     "status": "ok",
     "timestamp": 1637538065592,
     "user": {
      "displayName": "Kedir Ahmed",
      "photoUrl": "https://lh3.googleusercontent.com/a/default-user=s64",
      "userId": "01899746473495893701"
     },
     "user_tz": 300
    },
    "id": "-cWvZBQtCPlf"
   },
   "outputs": [],
   "source": [
    "train_data, test_data = train_test_data_split(reuters_df)"
   ]
  },
  {
   "cell_type": "code",
   "execution_count": 34,
   "metadata": {
    "colab": {
     "base_uri": "https://localhost:8080/",
     "height": 279
    },
    "executionInfo": {
     "elapsed": 2617,
     "status": "ok",
     "timestamp": 1637538074215,
     "user": {
      "displayName": "Kedir Ahmed",
      "photoUrl": "https://lh3.googleusercontent.com/a/default-user=s64",
      "userId": "01899746473495893701"
     },
     "user_tz": 300
    },
    "id": "iQubgmpH3_Is",
    "outputId": "3f54999b-af7f-43f3-dbc8-b5e1bf811e38"
   },
   "outputs": [
    {
     "data": {
      "image/png": "[encoded data removed]",
      "text/plain": [
       "<Figure size 432x288 with 1 Axes>"
      ]
     },
     "metadata": {
      "needs_background": "light"
     },
     "output_type": "display_data"
    }
   ],
   "source": [
    "def do_pca_plot(df):\n",
    "  pca = PCA(n_components = 2) \n",
    "  X_pca = pd.DataFrame(pca.fit_transform(df.drop(\"topics\", axis=1)))\n",
    "  X_pca['topics'] = df['topics']\n",
    "  sns.scatterplot(data=X_pca, x=0, y=1, hue='topics')\n",
    "\n",
    "do_pca_plot(train_data)"
   ]
  },
  {
   "cell_type": "code",
   "execution_count": null,
   "metadata": {
    "executionInfo": {
     "elapsed": 302,
     "status": "aborted",
     "timestamp": 1637537090813,
     "user": {
      "displayName": "Kedir Ahmed",
      "photoUrl": "https://lh3.googleusercontent.com/a/default-user=s64",
      "userId": "01899746473495893701"
     },
     "user_tz": 300
    },
    "id": "mEbxtwzyQun9"
   },
   "outputs": [],
   "source": [
    "# 1 class represents EARN topics and 0 class represents OTHERS."
   ]
  },
  {
   "cell_type": "code",
   "execution_count": 35,
   "metadata": {
    "colab": {
     "base_uri": "https://localhost:8080/",
     "height": 323
    },
    "executionInfo": {
     "elapsed": 284,
     "status": "ok",
     "timestamp": 1637538083779,
     "user": {
      "displayName": "Kedir Ahmed",
      "photoUrl": "https://lh3.googleusercontent.com/a/default-user=s64",
      "userId": "01899746473495893701"
     },
     "user_tz": 300
    },
    "id": "BWPhc1fTN5tE",
    "outputId": "e8e0da01-69e0-40a8-d818-5b4a41ba1f0f"
   },
   "outputs": [
    {
     "data": {
      "image/png": "[encoded data removed]",
      "text/plain": [
       "<Figure size 432x288 with 1 Axes>"
      ]
     },
     "metadata": {
      "needs_background": "light"
     },
     "output_type": "display_data"
    }
   ],
   "source": [
    "train_data['topics'].value_counts().set_axis(['NOT EARN','EARN']).plot.bar()\n",
    "plt.title(\"Training dataset count\")\n",
    "plt.legend()\n",
    "plt.show()"
   ]
  },
  {
   "cell_type": "code",
   "execution_count": 36,
   "metadata": {
    "colab": {
     "base_uri": "https://localhost:8080/",
     "height": 323
    },
    "executionInfo": {
     "elapsed": 299,
     "status": "ok",
     "timestamp": 1637538086037,
     "user": {
      "displayName": "Kedir Ahmed",
      "photoUrl": "https://lh3.googleusercontent.com/a/default-user=s64",
      "userId": "01899746473495893701"
     },
     "user_tz": 300
    },
    "id": "dHHQpNtZMnAL",
    "outputId": "32b08183-57dd-4a8b-e2b1-8a0de926cacf"
   },
   "outputs": [
    {
     "data": {
      "image/png": "[encoded data removed]",
      "text/plain": [
       "<Figure size 432x288 with 1 Axes>"
      ]
     },
     "metadata": {
      "needs_background": "light"
     },
     "output_type": "display_data"
    }
   ],
   "source": [
    "test_data['topics'].value_counts().set_axis(['NOT EARN','EARN']).plot.bar()\n",
    "plt.title(\"Testing dataset count\")\n",
    "plt.legend()\n",
    "plt.show()"
   ]
  },
  {
   "cell_type": "code",
   "execution_count": null,
   "metadata": {
    "executionInfo": {
     "elapsed": 163,
     "status": "aborted",
     "timestamp": 1637537090814,
     "user": {
      "displayName": "Kedir Ahmed",
      "photoUrl": "https://lh3.googleusercontent.com/a/default-user=s64",
      "userId": "01899746473495893701"
     },
     "user_tz": 300
    },
    "id": "eBeIPqn0CkRi"
   },
   "outputs": [],
   "source": [
    "# Save preprocessed dataset for later use\n",
    "# train.to_csv(\"train_reuters_data.csv\", index=False)\n",
    "# test.to_csv(\"test_reuters_data.csv\", index=False)"
   ]
  },
  {
   "cell_type": "markdown",
   "metadata": {
    "id": "ETMB6YWBTnko"
   },
   "source": [
    "# Statical Modeling"
   ]
  },
  {
   "cell_type": "markdown",
   "metadata": {
    "id": "zNPEGxQcTu7c"
   },
   "source": [
    "The problem has become a classification problem with a binary classes **earn** or 1 and **not-earn** or 0 class. The classifier proposed is to use a ANN model with a Single hidden layer feed-forward Neural Network."
   ]
  },
  {
   "cell_type": "code",
   "execution_count": 37,
   "metadata": {
    "executionInfo": {
     "elapsed": 108,
     "status": "ok",
     "timestamp": 1637538107229,
     "user": {
      "displayName": "Kedir Ahmed",
      "photoUrl": "https://lh3.googleusercontent.com/a/default-user=s64",
      "userId": "01899746473495893701"
     },
     "user_tz": 300
    },
    "id": "zrZFxBUWVpWW"
   },
   "outputs": [],
   "source": [
    "def train_model(train_data, batch_size=16, epochs=100, random_state=42):\n",
    "  # Prepare the dataset for the model\n",
    "  y_train, x_train = train_data['topics'], train_data.iloc[:, 0:-1]\n",
    "\n",
    "  # Further devide the training data into train and validation set\n",
    "  x_train, x_val, y_train, y_val = train_test_split(x_train, y_train, test_size = 0.3, random_state = random_state)\n",
    "\n",
    "  # Initialising the ANN\n",
    "  classifier = Sequential()\n",
    "\n",
    "  # Adding the input layer and hidden layer\n",
    "  classifier.add(Dense(units = 512, kernel_initializer = 'uniform', activation = 'relu', input_dim = x_train.shape[1]))\n",
    "\n",
    "  # Adding the output layer\n",
    "  classifier.add(Dense(units = 1, kernel_initializer = 'uniform', activation = 'sigmoid'))\n",
    "\n",
    "  classifier.compile(optimizer = 'adam', loss = 'binary_crossentropy', metrics = ['accuracy'])\n",
    "  classifier.fit(x_train, y_train, batch_size = batch_size, epochs = epochs, validation_data=(x_val, y_val))\n",
    "\n",
    "  return classifier"
   ]
  },
  {
   "cell_type": "code",
   "execution_count": 38,
   "metadata": {
    "executionInfo": {
     "elapsed": 116,
     "status": "ok",
     "timestamp": 1637538109809,
     "user": {
      "displayName": "Kedir Ahmed",
      "photoUrl": "https://lh3.googleusercontent.com/a/default-user=s64",
      "userId": "01899746473495893701"
     },
     "user_tz": 300
    },
    "id": "WW-9MQ9fXGj7"
   },
   "outputs": [],
   "source": [
    "def do_prediction(test_data, classifier, treshold_val=0.5):\n",
    "  y_test, x_test = test_data['topics'], test_data.iloc[:, 0:-1]\n",
    "  # Prediction results\n",
    "  y_pred = classifier.predict(x_test)\n",
    "  y_pred = (y_pred > treshold_val)\n",
    "  y_pred = y_pred * 1\n",
    "  # Create a dataframe for actual vs predicted class\n",
    "  result_df = pd.DataFrame()\n",
    "  result_df[\"actual_class\"], result_df[\"pred_class\"] = y_test, y_pred\n",
    "  return result_df"
   ]
  },
  {
   "cell_type": "code",
   "execution_count": 39,
   "metadata": {
    "executionInfo": {
     "elapsed": 128,
     "status": "ok",
     "timestamp": 1637538112159,
     "user": {
      "displayName": "Kedir Ahmed",
      "photoUrl": "https://lh3.googleusercontent.com/a/default-user=s64",
      "userId": "01899746473495893701"
     },
     "user_tz": 300
    },
    "id": "gWNRy5EUYurj"
   },
   "outputs": [],
   "source": [
    "def model_scoring(actual_vs_pred_result):\n",
    "  # calculate precision, recall, auc and balanced_accuracy\n",
    "  y_true = actual_vs_pred_result[\"actual_class\"]\n",
    "  y_pred = actual_vs_pred_result[\"pred_class\"]\n",
    "  recall_0, recall_1 = recall_score(y_true, y_pred, average=None)\n",
    "  precision_0, precision_1  = precision_score(y_true, y_pred, average=None)\n",
    "  balanced_accuracy = balanced_accuracy_score(y_true, y_pred)\n",
    "  auc = roc_auc_score(y_true, y_pred, average=None)\n",
    "  metrics_df = pd.DataFrame([[precision_0, precision_1, recall_0, recall_1, auc, balanced_accuracy]], columns=[\"precision_0_class\", \"precision_1_class\", \"recall_0_class\", \"recall_1_class\", \"auc\", \"balanced_accuracy\"])\n",
    "  return metrics_df"
   ]
  },
  {
   "cell_type": "code",
   "execution_count": 40,
   "metadata": {
    "colab": {
     "base_uri": "https://localhost:8080/"
    },
    "executionInfo": {
     "elapsed": 210470,
     "status": "ok",
     "timestamp": 1637538324180,
     "user": {
      "displayName": "Kedir Ahmed",
      "photoUrl": "https://lh3.googleusercontent.com/a/default-user=s64",
      "userId": "01899746473495893701"
     },
     "user_tz": 300
    },
    "id": "xFdemLHdWzib",
    "outputId": "b17c638f-5739-49d0-967e-e202652c1a1d"
   },
   "outputs": [
    {
     "name": "stdout",
     "output_type": "stream",
     "text": [
      "Epoch 1/100\n",
      "341/341 [==============================] - 5s 7ms/step - loss: 0.2615 - accuracy: 0.9118 - val_loss: 0.1155 - val_accuracy: 0.9571\n",
      "Epoch 2/100\n",
      "341/341 [==============================] - 2s 6ms/step - loss: 0.1224 - accuracy: 0.9570 - val_loss: 0.1078 - val_accuracy: 0.9657\n",
      "Epoch 3/100\n",
      "341/341 [==============================] - 2s 6ms/step - loss: 0.1091 - accuracy: 0.9625 - val_loss: 0.0935 - val_accuracy: 0.9721\n",
      "Epoch 4/100\n",
      "341/341 [==============================] - 2s 5ms/step - loss: 0.0776 - accuracy: 0.9717 - val_loss: 0.0777 - val_accuracy: 0.9764\n",
      "Epoch 5/100\n",
      "341/341 [==============================] - 2s 6ms/step - loss: 0.0710 - accuracy: 0.9756 - val_loss: 0.1213 - val_accuracy: 0.9593\n",
      "Epoch 6/100\n",
      "341/341 [==============================] - 2s 6ms/step - loss: 0.0650 - accuracy: 0.9778 - val_loss: 0.1290 - val_accuracy: 0.9597\n",
      "Epoch 7/100\n",
      "341/341 [==============================] - 2s 5ms/step - loss: 0.0550 - accuracy: 0.9800 - val_loss: 0.1318 - val_accuracy: 0.9614\n",
      "Epoch 8/100\n",
      "341/341 [==============================] - 2s 5ms/step - loss: 0.0617 - accuracy: 0.9792 - val_loss: 0.0813 - val_accuracy: 0.9781\n",
      "Epoch 9/100\n",
      "341/341 [==============================] - 2s 6ms/step - loss: 0.0680 - accuracy: 0.9778 - val_loss: 0.1215 - val_accuracy: 0.9674\n",
      "Epoch 10/100\n",
      "341/341 [==============================] - 2s 6ms/step - loss: 0.0434 - accuracy: 0.9846 - val_loss: 0.2402 - val_accuracy: 0.9263\n",
      "Epoch 11/100\n",
      "341/341 [==============================] - 2s 6ms/step - loss: 0.0497 - accuracy: 0.9844 - val_loss: 0.0985 - val_accuracy: 0.9743\n",
      "Epoch 12/100\n",
      "341/341 [==============================] - 2s 5ms/step - loss: 0.0372 - accuracy: 0.9866 - val_loss: 0.1000 - val_accuracy: 0.9760\n",
      "Epoch 13/100\n",
      "341/341 [==============================] - 2s 6ms/step - loss: 0.0428 - accuracy: 0.9840 - val_loss: 0.0775 - val_accuracy: 0.9811\n",
      "Epoch 14/100\n",
      "341/341 [==============================] - 2s 6ms/step - loss: 0.0415 - accuracy: 0.9844 - val_loss: 0.0996 - val_accuracy: 0.9769\n",
      "Epoch 15/100\n",
      "341/341 [==============================] - 2s 6ms/step - loss: 0.0305 - accuracy: 0.9884 - val_loss: 0.1008 - val_accuracy: 0.9786\n",
      "Epoch 16/100\n",
      "341/341 [==============================] - 2s 6ms/step - loss: 0.0380 - accuracy: 0.9873 - val_loss: 0.0752 - val_accuracy: 0.9786\n",
      "Epoch 17/100\n",
      "341/341 [==============================] - 2s 6ms/step - loss: 0.0194 - accuracy: 0.9921 - val_loss: 0.0846 - val_accuracy: 0.9769\n",
      "Epoch 18/100\n",
      "341/341 [==============================] - 2s 6ms/step - loss: 0.0349 - accuracy: 0.9895 - val_loss: 0.0738 - val_accuracy: 0.9811\n",
      "Epoch 19/100\n",
      "341/341 [==============================] - 2s 5ms/step - loss: 0.0174 - accuracy: 0.9947 - val_loss: 0.0905 - val_accuracy: 0.9773\n",
      "Epoch 20/100\n",
      "341/341 [==============================] - 2s 5ms/step - loss: 0.0277 - accuracy: 0.9899 - val_loss: 0.0749 - val_accuracy: 0.9811\n",
      "Epoch 21/100\n",
      "341/341 [==============================] - 2s 5ms/step - loss: 0.0215 - accuracy: 0.9917 - val_loss: 0.0879 - val_accuracy: 0.9799\n",
      "Epoch 22/100\n",
      "341/341 [==============================] - 2s 6ms/step - loss: 0.0174 - accuracy: 0.9939 - val_loss: 0.0992 - val_accuracy: 0.9760\n",
      "Epoch 23/100\n",
      "341/341 [==============================] - 2s 6ms/step - loss: 0.0127 - accuracy: 0.9961 - val_loss: 0.0905 - val_accuracy: 0.9790\n",
      "Epoch 24/100\n",
      "341/341 [==============================] - 2s 6ms/step - loss: 0.0138 - accuracy: 0.9963 - val_loss: 0.0896 - val_accuracy: 0.9794\n",
      "Epoch 25/100\n",
      "341/341 [==============================] - 2s 6ms/step - loss: 0.0193 - accuracy: 0.9932 - val_loss: 0.0904 - val_accuracy: 0.9786\n",
      "Epoch 26/100\n",
      "341/341 [==============================] - 2s 6ms/step - loss: 0.0340 - accuracy: 0.9904 - val_loss: 0.1033 - val_accuracy: 0.9756\n",
      "Epoch 27/100\n",
      "341/341 [==============================] - 2s 6ms/step - loss: 0.0110 - accuracy: 0.9958 - val_loss: 0.1022 - val_accuracy: 0.9764\n",
      "Epoch 28/100\n",
      "341/341 [==============================] - 2s 6ms/step - loss: 0.0099 - accuracy: 0.9974 - val_loss: 0.0851 - val_accuracy: 0.9846\n",
      "Epoch 29/100\n",
      "341/341 [==============================] - 2s 6ms/step - loss: 0.0292 - accuracy: 0.9938 - val_loss: 0.1014 - val_accuracy: 0.9777\n",
      "Epoch 30/100\n",
      "341/341 [==============================] - 2s 5ms/step - loss: 0.0082 - accuracy: 0.9971 - val_loss: 0.1145 - val_accuracy: 0.9794\n",
      "Epoch 31/100\n",
      "341/341 [==============================] - 2s 7ms/step - loss: 0.0326 - accuracy: 0.9893 - val_loss: 0.1105 - val_accuracy: 0.9816\n",
      "Epoch 32/100\n",
      "341/341 [==============================] - 2s 6ms/step - loss: 0.0107 - accuracy: 0.9956 - val_loss: 0.1044 - val_accuracy: 0.9803\n",
      "Epoch 33/100\n",
      "341/341 [==============================] - 2s 6ms/step - loss: 0.0052 - accuracy: 0.9989 - val_loss: 0.1030 - val_accuracy: 0.9794\n",
      "Epoch 34/100\n",
      "341/341 [==============================] - 2s 5ms/step - loss: 0.0029 - accuracy: 0.9994 - val_loss: 0.1049 - val_accuracy: 0.9790\n",
      "Epoch 35/100\n",
      "341/341 [==============================] - 2s 5ms/step - loss: 0.0035 - accuracy: 0.9987 - val_loss: 0.1080 - val_accuracy: 0.9794\n",
      "Epoch 36/100\n",
      "341/341 [==============================] - 2s 7ms/step - loss: 0.0026 - accuracy: 0.9993 - val_loss: 0.1120 - val_accuracy: 0.9829\n",
      "Epoch 37/100\n",
      "341/341 [==============================] - 2s 6ms/step - loss: 9.6481e-04 - accuracy: 1.0000 - val_loss: 0.1240 - val_accuracy: 0.9829\n",
      "Epoch 38/100\n",
      "341/341 [==============================] - 2s 6ms/step - loss: 0.0334 - accuracy: 0.9897 - val_loss: 0.2368 - val_accuracy: 0.9726\n",
      "Epoch 39/100\n",
      "341/341 [==============================] - 2s 5ms/step - loss: 0.0173 - accuracy: 0.9952 - val_loss: 0.1422 - val_accuracy: 0.9777\n",
      "Epoch 40/100\n",
      "341/341 [==============================] - 2s 7ms/step - loss: 0.0111 - accuracy: 0.9960 - val_loss: 0.1415 - val_accuracy: 0.9790\n",
      "Epoch 41/100\n",
      "341/341 [==============================] - 2s 7ms/step - loss: 0.0235 - accuracy: 0.9934 - val_loss: 0.1178 - val_accuracy: 0.9790\n",
      "Epoch 42/100\n",
      "341/341 [==============================] - 2s 5ms/step - loss: 0.0100 - accuracy: 0.9974 - val_loss: 0.1607 - val_accuracy: 0.9811\n",
      "Epoch 43/100\n",
      "341/341 [==============================] - 2s 5ms/step - loss: 0.0015 - accuracy: 0.9994 - val_loss: 0.1499 - val_accuracy: 0.9790\n",
      "Epoch 44/100\n",
      "341/341 [==============================] - 2s 6ms/step - loss: 0.0446 - accuracy: 0.9901 - val_loss: 0.1473 - val_accuracy: 0.9781\n",
      "Epoch 45/100\n",
      "341/341 [==============================] - 2s 6ms/step - loss: 0.0049 - accuracy: 0.9985 - val_loss: 0.1245 - val_accuracy: 0.9794\n",
      "Epoch 46/100\n",
      "341/341 [==============================] - 2s 7ms/step - loss: 9.1094e-04 - accuracy: 1.0000 - val_loss: 0.1182 - val_accuracy: 0.9824\n",
      "Epoch 47/100\n",
      "341/341 [==============================] - 2s 6ms/step - loss: 7.2885e-04 - accuracy: 1.0000 - val_loss: 0.1359 - val_accuracy: 0.9816\n",
      "Epoch 48/100\n",
      "341/341 [==============================] - 2s 5ms/step - loss: 5.5694e-04 - accuracy: 1.0000 - val_loss: 0.1255 - val_accuracy: 0.9803\n",
      "Epoch 49/100\n",
      "341/341 [==============================] - 2s 5ms/step - loss: 4.7105e-04 - accuracy: 1.0000 - val_loss: 0.1228 - val_accuracy: 0.9803\n",
      "Epoch 50/100\n",
      "341/341 [==============================] - 2s 6ms/step - loss: 3.9533e-04 - accuracy: 1.0000 - val_loss: 0.1282 - val_accuracy: 0.9799\n",
      "Epoch 51/100\n",
      "341/341 [==============================] - 2s 6ms/step - loss: 2.9909e-04 - accuracy: 1.0000 - val_loss: 0.1297 - val_accuracy: 0.9807\n",
      "Epoch 52/100\n",
      "341/341 [==============================] - 2s 6ms/step - loss: 2.6479e-04 - accuracy: 1.0000 - val_loss: 0.1315 - val_accuracy: 0.9807\n",
      "Epoch 53/100\n",
      "341/341 [==============================] - 2s 6ms/step - loss: 2.2416e-04 - accuracy: 1.0000 - val_loss: 0.1325 - val_accuracy: 0.9803\n",
      "Epoch 54/100\n",
      "341/341 [==============================] - 2s 6ms/step - loss: 0.0165 - accuracy: 0.9958 - val_loss: 0.1976 - val_accuracy: 0.9807\n",
      "Epoch 55/100\n",
      "341/341 [==============================] - 2s 6ms/step - loss: 0.0753 - accuracy: 0.9859 - val_loss: 0.1698 - val_accuracy: 0.9811\n",
      "Epoch 56/100\n",
      "341/341 [==============================] - 2s 6ms/step - loss: 0.0200 - accuracy: 0.9967 - val_loss: 0.3570 - val_accuracy: 0.9374\n",
      "Epoch 57/100\n",
      "341/341 [==============================] - 2s 6ms/step - loss: 0.0106 - accuracy: 0.9965 - val_loss: 0.1430 - val_accuracy: 0.9807\n",
      "Epoch 58/100\n",
      "341/341 [==============================] - 2s 7ms/step - loss: 5.6088e-04 - accuracy: 1.0000 - val_loss: 0.1428 - val_accuracy: 0.9794\n",
      "Epoch 59/100\n",
      "341/341 [==============================] - 2s 7ms/step - loss: 3.4464e-04 - accuracy: 1.0000 - val_loss: 0.1488 - val_accuracy: 0.9820\n",
      "Epoch 60/100\n",
      "341/341 [==============================] - 2s 6ms/step - loss: 2.9025e-04 - accuracy: 1.0000 - val_loss: 0.1481 - val_accuracy: 0.9816\n",
      "Epoch 61/100\n",
      "341/341 [==============================] - 2s 7ms/step - loss: 2.3413e-04 - accuracy: 1.0000 - val_loss: 0.1479 - val_accuracy: 0.9816\n",
      "Epoch 62/100\n",
      "341/341 [==============================] - 2s 6ms/step - loss: 2.0069e-04 - accuracy: 1.0000 - val_loss: 0.1497 - val_accuracy: 0.9820\n",
      "Epoch 63/100\n",
      "341/341 [==============================] - 2s 7ms/step - loss: 1.7281e-04 - accuracy: 1.0000 - val_loss: 0.1617 - val_accuracy: 0.9811\n",
      "Epoch 64/100\n",
      "341/341 [==============================] - 2s 7ms/step - loss: 1.6474e-04 - accuracy: 1.0000 - val_loss: 0.1501 - val_accuracy: 0.9803\n",
      "Epoch 65/100\n",
      "341/341 [==============================] - 2s 6ms/step - loss: 1.3396e-04 - accuracy: 1.0000 - val_loss: 0.1534 - val_accuracy: 0.9816\n",
      "Epoch 66/100\n",
      "341/341 [==============================] - 2s 6ms/step - loss: 1.1299e-04 - accuracy: 1.0000 - val_loss: 0.1522 - val_accuracy: 0.9811\n",
      "Epoch 67/100\n",
      "341/341 [==============================] - 2s 6ms/step - loss: 1.0122e-04 - accuracy: 1.0000 - val_loss: 0.1532 - val_accuracy: 0.9816\n",
      "Epoch 68/100\n",
      "341/341 [==============================] - 2s 7ms/step - loss: 1.1656e-04 - accuracy: 1.0000 - val_loss: 0.1590 - val_accuracy: 0.9807\n",
      "Epoch 69/100\n",
      "341/341 [==============================] - 2s 7ms/step - loss: 1.0730e-04 - accuracy: 1.0000 - val_loss: 0.1685 - val_accuracy: 0.9824\n",
      "Epoch 70/100\n",
      "341/341 [==============================] - 2s 7ms/step - loss: 7.3006e-05 - accuracy: 1.0000 - val_loss: 0.1634 - val_accuracy: 0.9820\n",
      "Epoch 71/100\n",
      "341/341 [==============================] - 2s 6ms/step - loss: 5.8123e-05 - accuracy: 1.0000 - val_loss: 0.1697 - val_accuracy: 0.9829\n",
      "Epoch 72/100\n",
      "341/341 [==============================] - 2s 6ms/step - loss: 4.7897e-05 - accuracy: 1.0000 - val_loss: 0.1730 - val_accuracy: 0.9824\n",
      "Epoch 73/100\n",
      "341/341 [==============================] - 2s 6ms/step - loss: 5.7443e-05 - accuracy: 1.0000 - val_loss: 0.1705 - val_accuracy: 0.9820\n",
      "Epoch 74/100\n",
      "341/341 [==============================] - 2s 7ms/step - loss: 6.4536e-05 - accuracy: 1.0000 - val_loss: 0.1764 - val_accuracy: 0.9820\n",
      "Epoch 75/100\n",
      "341/341 [==============================] - 2s 6ms/step - loss: 3.7246e-05 - accuracy: 1.0000 - val_loss: 0.1672 - val_accuracy: 0.9803\n",
      "Epoch 76/100\n",
      "341/341 [==============================] - 2s 6ms/step - loss: 2.6557e-05 - accuracy: 1.0000 - val_loss: 0.1780 - val_accuracy: 0.9820\n",
      "Epoch 77/100\n",
      "341/341 [==============================] - 2s 5ms/step - loss: 2.8712e-05 - accuracy: 1.0000 - val_loss: 0.1929 - val_accuracy: 0.9799\n",
      "Epoch 78/100\n",
      "341/341 [==============================] - 2s 6ms/step - loss: 0.0522 - accuracy: 0.9914 - val_loss: 0.2901 - val_accuracy: 0.9726\n",
      "Epoch 79/100\n",
      "341/341 [==============================] - 2s 6ms/step - loss: 0.0272 - accuracy: 0.9949 - val_loss: 0.1880 - val_accuracy: 0.9781\n",
      "Epoch 80/100\n",
      "341/341 [==============================] - 2s 6ms/step - loss: 0.0205 - accuracy: 0.9934 - val_loss: 0.1972 - val_accuracy: 0.9799\n",
      "Epoch 81/100\n",
      "341/341 [==============================] - 2s 5ms/step - loss: 0.0231 - accuracy: 0.9963 - val_loss: 0.2029 - val_accuracy: 0.9769\n",
      "Epoch 82/100\n",
      "341/341 [==============================] - 2s 7ms/step - loss: 0.0066 - accuracy: 0.9978 - val_loss: 0.1993 - val_accuracy: 0.9799\n",
      "Epoch 83/100\n",
      "341/341 [==============================] - 2s 6ms/step - loss: 0.0039 - accuracy: 0.9991 - val_loss: 0.2917 - val_accuracy: 0.9721\n",
      "Epoch 84/100\n",
      "341/341 [==============================] - 2s 6ms/step - loss: 0.0120 - accuracy: 0.9961 - val_loss: 0.2231 - val_accuracy: 0.9786\n",
      "Epoch 85/100\n",
      "341/341 [==============================] - 2s 7ms/step - loss: 0.0216 - accuracy: 0.9971 - val_loss: 0.1903 - val_accuracy: 0.9803\n",
      "Epoch 86/100\n",
      "341/341 [==============================] - 2s 6ms/step - loss: 0.0083 - accuracy: 0.9972 - val_loss: 0.2132 - val_accuracy: 0.9794\n",
      "Epoch 87/100\n",
      "341/341 [==============================] - 2s 6ms/step - loss: 2.0988e-04 - accuracy: 1.0000 - val_loss: 0.2032 - val_accuracy: 0.9811\n",
      "Epoch 88/100\n",
      "341/341 [==============================] - 2s 6ms/step - loss: 9.6899e-05 - accuracy: 1.0000 - val_loss: 0.2042 - val_accuracy: 0.9807\n",
      "Epoch 89/100\n",
      "341/341 [==============================] - 2s 6ms/step - loss: 8.1490e-05 - accuracy: 1.0000 - val_loss: 0.2040 - val_accuracy: 0.9816\n",
      "Epoch 90/100\n",
      "341/341 [==============================] - 2s 6ms/step - loss: 7.3466e-05 - accuracy: 1.0000 - val_loss: 0.2068 - val_accuracy: 0.9820\n",
      "Epoch 91/100\n",
      "341/341 [==============================] - 2s 6ms/step - loss: 6.4160e-05 - accuracy: 1.0000 - val_loss: 0.2071 - val_accuracy: 0.9811\n",
      "Epoch 92/100\n",
      "341/341 [==============================] - 2s 6ms/step - loss: 6.2123e-05 - accuracy: 1.0000 - val_loss: 0.2073 - val_accuracy: 0.9820\n",
      "Epoch 93/100\n",
      "341/341 [==============================] - 2s 7ms/step - loss: 5.3002e-05 - accuracy: 1.0000 - val_loss: 0.2045 - val_accuracy: 0.9807\n",
      "Epoch 94/100\n",
      "341/341 [==============================] - 2s 7ms/step - loss: 4.7871e-05 - accuracy: 1.0000 - val_loss: 0.2049 - val_accuracy: 0.9807\n",
      "Epoch 95/100\n",
      "341/341 [==============================] - 2s 6ms/step - loss: 4.2638e-05 - accuracy: 1.0000 - val_loss: 0.2079 - val_accuracy: 0.9807\n",
      "Epoch 96/100\n",
      "341/341 [==============================] - 2s 6ms/step - loss: 4.1946e-05 - accuracy: 1.0000 - val_loss: 0.2098 - val_accuracy: 0.9816\n",
      "Epoch 97/100\n",
      "341/341 [==============================] - 2s 6ms/step - loss: 3.7622e-05 - accuracy: 1.0000 - val_loss: 0.2072 - val_accuracy: 0.9807\n",
      "Epoch 98/100\n",
      "341/341 [==============================] - 2s 7ms/step - loss: 3.2139e-05 - accuracy: 1.0000 - val_loss: 0.2085 - val_accuracy: 0.9811\n",
      "Epoch 99/100\n",
      "341/341 [==============================] - 2s 6ms/step - loss: 2.7573e-05 - accuracy: 1.0000 - val_loss: 0.2125 - val_accuracy: 0.9803\n",
      "Epoch 100/100\n",
      "341/341 [==============================] - 2s 6ms/step - loss: 2.5810e-05 - accuracy: 1.0000 - val_loss: 0.2085 - val_accuracy: 0.9820\n"
     ]
    }
   ],
   "source": [
    "# Train model\n",
    "classifier_model = train_model(train_data)"
   ]
  },
  {
   "cell_type": "code",
   "execution_count": 41,
   "metadata": {
    "executionInfo": {
     "elapsed": 676,
     "status": "ok",
     "timestamp": 1637538470955,
     "user": {
      "displayName": "Kedir Ahmed",
      "photoUrl": "https://lh3.googleusercontent.com/a/default-user=s64",
      "userId": "01899746473495893701"
     },
     "user_tz": 300
    },
    "id": "MSRBJ4TLXDxf"
   },
   "outputs": [],
   "source": [
    "# Test model\n",
    "prediction_result = do_prediction(test_data, classifier_model)"
   ]
  },
  {
   "cell_type": "code",
   "execution_count": 42,
   "metadata": {
    "colab": {
     "base_uri": "https://localhost:8080/",
     "height": 201
    },
    "executionInfo": {
     "elapsed": 124,
     "status": "ok",
     "timestamp": 1637538472103,
     "user": {
      "displayName": "Kedir Ahmed",
      "photoUrl": "https://lh3.googleusercontent.com/a/default-user=s64",
      "userId": "01899746473495893701"
     },
     "user_tz": 300
    },
    "id": "-MLmIbSY0AJa",
    "outputId": "4251f8f0-ea0c-4f0f-f62f-3543514730ed"
   },
   "outputs": [
    {
     "data": {
      "text/html": [
       "<div>\n",
       "<style scoped>\n",
       "    .dataframe tbody tr th:only-of-type {\n",
       "        vertical-align: middle;\n",
       "    }\n",
       "\n",
       "    .dataframe tbody tr th {\n",
       "        vertical-align: top;\n",
       "    }\n",
       "\n",
       "    .dataframe thead th {\n",
       "        text-align: right;\n",
       "    }\n",
       "</style>\n",
       "<table border=\"1\" class=\"dataframe\">\n",
       "  <thead>\n",
       "    <tr style=\"text-align: right;\">\n",
       "      <th></th>\n",
       "      <th>actual_class</th>\n",
       "      <th>pred_class</th>\n",
       "    </tr>\n",
       "  </thead>\n",
       "  <tbody>\n",
       "    <tr>\n",
       "      <th>0</th>\n",
       "      <td>0</td>\n",
       "      <td>0</td>\n",
       "    </tr>\n",
       "    <tr>\n",
       "      <th>1</th>\n",
       "      <td>0</td>\n",
       "      <td>0</td>\n",
       "    </tr>\n",
       "    <tr>\n",
       "      <th>2</th>\n",
       "      <td>0</td>\n",
       "      <td>0</td>\n",
       "    </tr>\n",
       "    <tr>\n",
       "      <th>3</th>\n",
       "      <td>0</td>\n",
       "      <td>0</td>\n",
       "    </tr>\n",
       "    <tr>\n",
       "      <th>4</th>\n",
       "      <td>0</td>\n",
       "      <td>0</td>\n",
       "    </tr>\n",
       "  </tbody>\n",
       "</table>\n",
       "</div>"
      ],
      "text/plain": [
       "   actual_class  pred_class\n",
       "0             0           0\n",
       "1             0           0\n",
       "2             0           0\n",
       "3             0           0\n",
       "4             0           0"
      ]
     },
     "execution_count": 42,
     "metadata": {},
     "output_type": "execute_result"
    }
   ],
   "source": [
    "prediction_result.head()"
   ]
  },
  {
   "cell_type": "code",
   "execution_count": 43,
   "metadata": {
    "colab": {
     "base_uri": "https://localhost:8080/",
     "height": 78
    },
    "executionInfo": {
     "elapsed": 129,
     "status": "ok",
     "timestamp": 1637538476484,
     "user": {
      "displayName": "Kedir Ahmed",
      "photoUrl": "https://lh3.googleusercontent.com/a/default-user=s64",
      "userId": "01899746473495893701"
     },
     "user_tz": 300
    },
    "id": "fHGqm8SMDOD5",
    "outputId": "a352c9cd-48a8-43e6-c19f-60f5798ee777"
   },
   "outputs": [
    {
     "data": {
      "text/html": [
       "<div>\n",
       "<style scoped>\n",
       "    .dataframe tbody tr th:only-of-type {\n",
       "        vertical-align: middle;\n",
       "    }\n",
       "\n",
       "    .dataframe tbody tr th {\n",
       "        vertical-align: top;\n",
       "    }\n",
       "\n",
       "    .dataframe thead th {\n",
       "        text-align: right;\n",
       "    }\n",
       "</style>\n",
       "<table border=\"1\" class=\"dataframe\">\n",
       "  <thead>\n",
       "    <tr style=\"text-align: right;\">\n",
       "      <th></th>\n",
       "      <th>precision_0_class</th>\n",
       "      <th>precision_1_class</th>\n",
       "      <th>recall_0_class</th>\n",
       "      <th>recall_1_class</th>\n",
       "      <th>auc</th>\n",
       "      <th>balanced_accuracy</th>\n",
       "    </tr>\n",
       "  </thead>\n",
       "  <tbody>\n",
       "    <tr>\n",
       "      <th>0</th>\n",
       "      <td>0.992926</td>\n",
       "      <td>0.932323</td>\n",
       "      <td>0.967028</td>\n",
       "      <td>0.985059</td>\n",
       "      <td>0.976043</td>\n",
       "      <td>0.976043</td>\n",
       "    </tr>\n",
       "  </tbody>\n",
       "</table>\n",
       "</div>"
      ],
      "text/plain": [
       "   precision_0_class  precision_1_class  ...       auc  balanced_accuracy\n",
       "0           0.992926           0.932323  ...  0.976043           0.976043\n",
       "\n",
       "[1 rows x 6 columns]"
      ]
     },
     "execution_count": 43,
     "metadata": {},
     "output_type": "execute_result"
    }
   ],
   "source": [
    "# Scoring \n",
    "model_score = model_scoring(prediction_result)\n",
    "model_score"
   ]
  },
  {
   "cell_type": "markdown",
   "metadata": {
    "id": "v356sIrefrXZ"
   },
   "source": [
    "# Save Model"
   ]
  },
  {
   "cell_type": "code",
   "execution_count": 44,
   "metadata": {
    "executionInfo": {
     "elapsed": 112,
     "status": "ok",
     "timestamp": 1637538866087,
     "user": {
      "displayName": "Kedir Ahmed",
      "photoUrl": "https://lh3.googleusercontent.com/a/default-user=s64",
      "userId": "01899746473495893701"
     },
     "user_tz": 300
    },
    "id": "KnHqtpMCEK_0"
   },
   "outputs": [],
   "source": [
    "os.makedirs('/content/model', exist_ok=True)\n",
    "classifier_model.save('/content/model/keras_model.h5')"
   ]
  },
  {
   "cell_type": "code",
   "execution_count": 44,
   "metadata": {
    "executionInfo": {
     "elapsed": 123,
     "status": "ok",
     "timestamp": 1637538869048,
     "user": {
      "displayName": "Kedir Ahmed",
      "photoUrl": "https://lh3.googleusercontent.com/a/default-user=s64",
      "userId": "01899746473495893701"
     },
     "user_tz": 300
    },
    "id": "0kej76YZ5ybY"
   },
   "outputs": [],
   "source": []
  }
 ],
 "metadata": {
  "accelerator": "GPU",
  "colab": {
   "collapsed_sections": [],
   "name": "Reuters_train.ipynb",
   "provenance": []
  },
  "kernelspec": {
   "display_name": "Python 3",
   "language": "python",
   "name": "python3"
  },
  "language_info": {
   "codemirror_mode": {
    "name": "ipython",
    "version": 3
   },
   "file_extension": ".py",
   "mimetype": "text/x-python",
   "name": "python",
   "nbconvert_exporter": "python",
   "pygments_lexer": "ipython3",
   "version": "3.6.9"
  },
  "widgets": {
   "application/vnd.jupyter.widget-state+json": {
    "069d16e23dc1409184e6ce4a86cb23f0": {
     "model_module": "@jupyter-widgets/controls",
     "model_module_version": "1.5.0",
     "model_name": "HBoxModel",
     "state": {
      "_dom_classes": [],
      "_model_module": "@jupyter-widgets/controls",
      "_model_module_version": "1.5.0",
      "_model_name": "HBoxModel",
      "_view_count": null,
      "_view_module": "@jupyter-widgets/controls",
      "_view_module_version": "1.5.0",
      "_view_name": "HBoxView",
      "box_style": "",
      "children": [
       "IPY_MODEL_fa520b6dd0a043c7aaf41bf80f99bd86",
       "IPY_MODEL_68760a7ba95c4fbc95a9cb56d88b1a81",
       "IPY_MODEL_4374d061796241b089a6dcb6b44127b2"
      ],
      "layout": "IPY_MODEL_32fae548ef414614995ce0eed3318d6a"
     }
    },
    "082e60290ad046e0b664b124ff414589": {
     "model_module": "@jupyter-widgets/controls",
     "model_module_version": "1.5.0",
     "model_name": "ProgressStyleModel",
     "state": {
      "_model_module": "@jupyter-widgets/controls",
      "_model_module_version": "1.5.0",
      "_model_name": "ProgressStyleModel",
      "_view_count": null,
      "_view_module": "@jupyter-widgets/base",
      "_view_module_version": "1.2.0",
      "_view_name": "StyleView",
      "bar_color": null,
      "description_width": ""
     }
    },
    "0c6684e734ac4d348b2258dfd9e8641d": {
     "model_module": "@jupyter-widgets/controls",
     "model_module_version": "1.5.0",
     "model_name": "HBoxModel",
     "state": {
      "_dom_classes": [],
      "_model_module": "@jupyter-widgets/controls",
      "_model_module_version": "1.5.0",
      "_model_name": "HBoxModel",
      "_view_count": null,
      "_view_module": "@jupyter-widgets/controls",
      "_view_module_version": "1.5.0",
      "_view_name": "HBoxView",
      "box_style": "",
      "children": [
       "IPY_MODEL_5e324e6e63ff4c54b632f148615ad8c0",
       "IPY_MODEL_f00dfc9e241f46a59599fe98f3350fa9",
       "IPY_MODEL_3f9b44c1ea994898b26c134b16fd4787"
      ],
      "layout": "IPY_MODEL_4182ab1246454e70871a66b7fa633942"
     }
    },
    "1146d7e991094552af6f6ae7645d7fce": {
     "model_module": "@jupyter-widgets/base",
     "model_module_version": "1.2.0",
     "model_name": "LayoutModel",
     "state": {
      "_model_module": "@jupyter-widgets/base",
      "_model_module_version": "1.2.0",
      "_model_name": "LayoutModel",
      "_view_count": null,
      "_view_module": "@jupyter-widgets/base",
      "_view_module_version": "1.2.0",
      "_view_name": "LayoutView",
      "align_content": null,
      "align_items": null,
      "align_self": null,
      "border": null,
      "bottom": null,
      "display": null,
      "flex": null,
      "flex_flow": null,
      "grid_area": null,
      "grid_auto_columns": null,
      "grid_auto_flow": null,
      "grid_auto_rows": null,
      "grid_column": null,
      "grid_gap": null,
      "grid_row": null,
      "grid_template_areas": null,
      "grid_template_columns": null,
      "grid_template_rows": null,
      "height": null,
      "justify_content": null,
      "justify_items": null,
      "left": null,
      "margin": null,
      "max_height": null,
      "max_width": null,
      "min_height": null,
      "min_width": null,
      "object_fit": null,
      "object_position": null,
      "order": null,
      "overflow": null,
      "overflow_x": null,
      "overflow_y": null,
      "padding": null,
      "right": null,
      "top": null,
      "visibility": null,
      "width": null
     }
    },
    "158abb65127b4740a3f431d41c576152": {
     "model_module": "@jupyter-widgets/base",
     "model_module_version": "1.2.0",
     "model_name": "LayoutModel",
     "state": {
      "_model_module": "@jupyter-widgets/base",
      "_model_module_version": "1.2.0",
      "_model_name": "LayoutModel",
      "_view_count": null,
      "_view_module": "@jupyter-widgets/base",
      "_view_module_version": "1.2.0",
      "_view_name": "LayoutView",
      "align_content": null,
      "align_items": null,
      "align_self": null,
      "border": null,
      "bottom": null,
      "display": null,
      "flex": null,
      "flex_flow": null,
      "grid_area": null,
      "grid_auto_columns": null,
      "grid_auto_flow": null,
      "grid_auto_rows": null,
      "grid_column": null,
      "grid_gap": null,
      "grid_row": null,
      "grid_template_areas": null,
      "grid_template_columns": null,
      "grid_template_rows": null,
      "height": null,
      "justify_content": null,
      "justify_items": null,
      "left": null,
      "margin": null,
      "max_height": null,
      "max_width": null,
      "min_height": null,
      "min_width": null,
      "object_fit": null,
      "object_position": null,
      "order": null,
      "overflow": null,
      "overflow_x": null,
      "overflow_y": null,
      "padding": null,
      "right": null,
      "top": null,
      "visibility": null,
      "width": null
     }
    },
    "159158784e414691b54643626765c209": {
     "model_module": "@jupyter-widgets/controls",
     "model_module_version": "1.5.0",
     "model_name": "FloatProgressModel",
     "state": {
      "_dom_classes": [],
      "_model_module": "@jupyter-widgets/controls",
      "_model_module_version": "1.5.0",
      "_model_name": "FloatProgressModel",
      "_view_count": null,
      "_view_module": "@jupyter-widgets/controls",
      "_view_module_version": "1.5.0",
      "_view_name": "ProgressView",
      "bar_style": "success",
      "description": "",
      "description_tooltip": null,
      "layout": "IPY_MODEL_df27e35fe8aa45d3ba13182effec1ecb",
      "max": 231508,
      "min": 0,
      "orientation": "horizontal",
      "style": "IPY_MODEL_9000aa44559b414990e080a05f6a2682",
      "value": 231508
     }
    },
    "1cb907d737db4324bfd1e9d959dcd001": {
     "model_module": "@jupyter-widgets/controls",
     "model_module_version": "1.5.0",
     "model_name": "DescriptionStyleModel",
     "state": {
      "_model_module": "@jupyter-widgets/controls",
      "_model_module_version": "1.5.0",
      "_model_name": "DescriptionStyleModel",
      "_view_count": null,
      "_view_module": "@jupyter-widgets/base",
      "_view_module_version": "1.2.0",
      "_view_name": "StyleView",
      "description_width": ""
     }
    },
    "1d561e25b91048d3a2db8b64f5d32bb5": {
     "model_module": "@jupyter-widgets/controls",
     "model_module_version": "1.5.0",
     "model_name": "HTMLModel",
     "state": {
      "_dom_classes": [],
      "_model_module": "@jupyter-widgets/controls",
      "_model_module_version": "1.5.0",
      "_model_name": "HTMLModel",
      "_view_count": null,
      "_view_module": "@jupyter-widgets/controls",
      "_view_module_version": "1.5.0",
      "_view_name": "HTMLView",
      "description": "",
      "description_tooltip": null,
      "layout": "IPY_MODEL_9cacaf01d14643a18dd387eb1373fad4",
      "placeholder": "​",
      "style": "IPY_MODEL_23607ccf541945bba352ecee5a0f908c",
      "value": "Downloading: 100%"
     }
    },
    "1ef66d4774c745528df8ce935ac3799b": {
     "model_module": "@jupyter-widgets/controls",
     "model_module_version": "1.5.0",
     "model_name": "HTMLModel",
     "state": {
      "_dom_classes": [],
      "_model_module": "@jupyter-widgets/controls",
      "_model_module_version": "1.5.0",
      "_model_name": "HTMLModel",
      "_view_count": null,
      "_view_module": "@jupyter-widgets/controls",
      "_view_module_version": "1.5.0",
      "_view_name": "HTMLView",
      "description": "",
      "description_tooltip": null,
      "layout": "IPY_MODEL_2cda65bd6535488d8cee6da0283d10d6",
      "placeholder": "​",
      "style": "IPY_MODEL_ec07b9cacdac48dfbc6ab4a69757fc3f",
      "value": " 570/570 [00:00&lt;00:00, 11.9kB/s]"
     }
    },
    "21133f419004447a87e0eb8e8f8ace5e": {
     "model_module": "@jupyter-widgets/controls",
     "model_module_version": "1.5.0",
     "model_name": "HTMLModel",
     "state": {
      "_dom_classes": [],
      "_model_module": "@jupyter-widgets/controls",
      "_model_module_version": "1.5.0",
      "_model_name": "HTMLModel",
      "_view_count": null,
      "_view_module": "@jupyter-widgets/controls",
      "_view_module_version": "1.5.0",
      "_view_name": "HTMLView",
      "description": "",
      "description_tooltip": null,
      "layout": "IPY_MODEL_b7c3cb522d56421b8c79766a82fbf31e",
      "placeholder": "​",
      "style": "IPY_MODEL_1cb907d737db4324bfd1e9d959dcd001",
      "value": " 455k/455k [00:00&lt;00:00, 740kB/s]"
     }
    },
    "23607ccf541945bba352ecee5a0f908c": {
     "model_module": "@jupyter-widgets/controls",
     "model_module_version": "1.5.0",
     "model_name": "DescriptionStyleModel",
     "state": {
      "_model_module": "@jupyter-widgets/controls",
      "_model_module_version": "1.5.0",
      "_model_name": "DescriptionStyleModel",
      "_view_count": null,
      "_view_module": "@jupyter-widgets/base",
      "_view_module_version": "1.2.0",
      "_view_name": "StyleView",
      "description_width": ""
     }
    },
    "27020c84371f4486bd70e3fa291419ce": {
     "model_module": "@jupyter-widgets/controls",
     "model_module_version": "1.5.0",
     "model_name": "HBoxModel",
     "state": {
      "_dom_classes": [],
      "_model_module": "@jupyter-widgets/controls",
      "_model_module_version": "1.5.0",
      "_model_name": "HBoxModel",
      "_view_count": null,
      "_view_module": "@jupyter-widgets/controls",
      "_view_module_version": "1.5.0",
      "_view_name": "HBoxView",
      "box_style": "",
      "children": [
       "IPY_MODEL_cec583b870dd4d8bae7a583dfd7491ee",
       "IPY_MODEL_4dc13a315d8d47208796a2da86fac649",
       "IPY_MODEL_1ef66d4774c745528df8ce935ac3799b"
      ],
      "layout": "IPY_MODEL_6ab058f431d845f3b783326fe1bb00d3"
     }
    },
    "2cda65bd6535488d8cee6da0283d10d6": {
     "model_module": "@jupyter-widgets/base",
     "model_module_version": "1.2.0",
     "model_name": "LayoutModel",
     "state": {
      "_model_module": "@jupyter-widgets/base",
      "_model_module_version": "1.2.0",
      "_model_name": "LayoutModel",
      "_view_count": null,
      "_view_module": "@jupyter-widgets/base",
      "_view_module_version": "1.2.0",
      "_view_name": "LayoutView",
      "align_content": null,
      "align_items": null,
      "align_self": null,
      "border": null,
      "bottom": null,
      "display": null,
      "flex": null,
      "flex_flow": null,
      "grid_area": null,
      "grid_auto_columns": null,
      "grid_auto_flow": null,
      "grid_auto_rows": null,
      "grid_column": null,
      "grid_gap": null,
      "grid_row": null,
      "grid_template_areas": null,
      "grid_template_columns": null,
      "grid_template_rows": null,
      "height": null,
      "justify_content": null,
      "justify_items": null,
      "left": null,
      "margin": null,
      "max_height": null,
      "max_width": null,
      "min_height": null,
      "min_width": null,
      "object_fit": null,
      "object_position": null,
      "order": null,
      "overflow": null,
      "overflow_x": null,
      "overflow_y": null,
      "padding": null,
      "right": null,
      "top": null,
      "visibility": null,
      "width": null
     }
    },
    "2f1a1b5bd2c94b1a8b95191b5710434a": {
     "model_module": "@jupyter-widgets/base",
     "model_module_version": "1.2.0",
     "model_name": "LayoutModel",
     "state": {
      "_model_module": "@jupyter-widgets/base",
      "_model_module_version": "1.2.0",
      "_model_name": "LayoutModel",
      "_view_count": null,
      "_view_module": "@jupyter-widgets/base",
      "_view_module_version": "1.2.0",
      "_view_name": "LayoutView",
      "align_content": null,
      "align_items": null,
      "align_self": null,
      "border": null,
      "bottom": null,
      "display": null,
      "flex": null,
      "flex_flow": null,
      "grid_area": null,
      "grid_auto_columns": null,
      "grid_auto_flow": null,
      "grid_auto_rows": null,
      "grid_column": null,
      "grid_gap": null,
      "grid_row": null,
      "grid_template_areas": null,
      "grid_template_columns": null,
      "grid_template_rows": null,
      "height": null,
      "justify_content": null,
      "justify_items": null,
      "left": null,
      "margin": null,
      "max_height": null,
      "max_width": null,
      "min_height": null,
      "min_width": null,
      "object_fit": null,
      "object_position": null,
      "order": null,
      "overflow": null,
      "overflow_x": null,
      "overflow_y": null,
      "padding": null,
      "right": null,
      "top": null,
      "visibility": null,
      "width": null
     }
    },
    "32c67def1ab64a4dbe33675887dcdde2": {
     "model_module": "@jupyter-widgets/base",
     "model_module_version": "1.2.0",
     "model_name": "LayoutModel",
     "state": {
      "_model_module": "@jupyter-widgets/base",
      "_model_module_version": "1.2.0",
      "_model_name": "LayoutModel",
      "_view_count": null,
      "_view_module": "@jupyter-widgets/base",
      "_view_module_version": "1.2.0",
      "_view_name": "LayoutView",
      "align_content": null,
      "align_items": null,
      "align_self": null,
      "border": null,
      "bottom": null,
      "display": null,
      "flex": null,
      "flex_flow": null,
      "grid_area": null,
      "grid_auto_columns": null,
      "grid_auto_flow": null,
      "grid_auto_rows": null,
      "grid_column": null,
      "grid_gap": null,
      "grid_row": null,
      "grid_template_areas": null,
      "grid_template_columns": null,
      "grid_template_rows": null,
      "height": null,
      "justify_content": null,
      "justify_items": null,
      "left": null,
      "margin": null,
      "max_height": null,
      "max_width": null,
      "min_height": null,
      "min_width": null,
      "object_fit": null,
      "object_position": null,
      "order": null,
      "overflow": null,
      "overflow_x": null,
      "overflow_y": null,
      "padding": null,
      "right": null,
      "top": null,
      "visibility": null,
      "width": null
     }
    },
    "32fae548ef414614995ce0eed3318d6a": {
     "model_module": "@jupyter-widgets/base",
     "model_module_version": "1.2.0",
     "model_name": "LayoutModel",
     "state": {
      "_model_module": "@jupyter-widgets/base",
      "_model_module_version": "1.2.0",
      "_model_name": "LayoutModel",
      "_view_count": null,
      "_view_module": "@jupyter-widgets/base",
      "_view_module_version": "1.2.0",
      "_view_name": "LayoutView",
      "align_content": null,
      "align_items": null,
      "align_self": null,
      "border": null,
      "bottom": null,
      "display": null,
      "flex": null,
      "flex_flow": null,
      "grid_area": null,
      "grid_auto_columns": null,
      "grid_auto_flow": null,
      "grid_auto_rows": null,
      "grid_column": null,
      "grid_gap": null,
      "grid_row": null,
      "grid_template_areas": null,
      "grid_template_columns": null,
      "grid_template_rows": null,
      "height": null,
      "justify_content": null,
      "justify_items": null,
      "left": null,
      "margin": null,
      "max_height": null,
      "max_width": null,
      "min_height": null,
      "min_width": null,
      "object_fit": null,
      "object_position": null,
      "order": null,
      "overflow": null,
      "overflow_x": null,
      "overflow_y": null,
      "padding": null,
      "right": null,
      "top": null,
      "visibility": null,
      "width": null
     }
    },
    "370aaac57d674c5f98a61955c71e8aab": {
     "model_module": "@jupyter-widgets/base",
     "model_module_version": "1.2.0",
     "model_name": "LayoutModel",
     "state": {
      "_model_module": "@jupyter-widgets/base",
      "_model_module_version": "1.2.0",
      "_model_name": "LayoutModel",
      "_view_count": null,
      "_view_module": "@jupyter-widgets/base",
      "_view_module_version": "1.2.0",
      "_view_name": "LayoutView",
      "align_content": null,
      "align_items": null,
      "align_self": null,
      "border": null,
      "bottom": null,
      "display": null,
      "flex": null,
      "flex_flow": null,
      "grid_area": null,
      "grid_auto_columns": null,
      "grid_auto_flow": null,
      "grid_auto_rows": null,
      "grid_column": null,
      "grid_gap": null,
      "grid_row": null,
      "grid_template_areas": null,
      "grid_template_columns": null,
      "grid_template_rows": null,
      "height": null,
      "justify_content": null,
      "justify_items": null,
      "left": null,
      "margin": null,
      "max_height": null,
      "max_width": null,
      "min_height": null,
      "min_width": null,
      "object_fit": null,
      "object_position": null,
      "order": null,
      "overflow": null,
      "overflow_x": null,
      "overflow_y": null,
      "padding": null,
      "right": null,
      "top": null,
      "visibility": null,
      "width": null
     }
    },
    "3af5e1276a304ddb88b7a24708906d7e": {
     "model_module": "@jupyter-widgets/controls",
     "model_module_version": "1.5.0",
     "model_name": "DescriptionStyleModel",
     "state": {
      "_model_module": "@jupyter-widgets/controls",
      "_model_module_version": "1.5.0",
      "_model_name": "DescriptionStyleModel",
      "_view_count": null,
      "_view_module": "@jupyter-widgets/base",
      "_view_module_version": "1.2.0",
      "_view_name": "StyleView",
      "description_width": ""
     }
    },
    "3f9b44c1ea994898b26c134b16fd4787": {
     "model_module": "@jupyter-widgets/controls",
     "model_module_version": "1.5.0",
     "model_name": "HTMLModel",
     "state": {
      "_dom_classes": [],
      "_model_module": "@jupyter-widgets/controls",
      "_model_module_version": "1.5.0",
      "_model_name": "HTMLModel",
      "_view_count": null,
      "_view_module": "@jupyter-widgets/controls",
      "_view_module_version": "1.5.0",
      "_view_name": "HTMLView",
      "description": "",
      "description_tooltip": null,
      "layout": "IPY_MODEL_a0dfaf6bf55f4c15b8de8a034670f05e",
      "placeholder": "​",
      "style": "IPY_MODEL_c1af81d0cee344208b46a79cc5adcc81",
      "value": " 256M/256M [00:13&lt;00:00, 20.1MB/s]"
     }
    },
    "4182ab1246454e70871a66b7fa633942": {
     "model_module": "@jupyter-widgets/base",
     "model_module_version": "1.2.0",
     "model_name": "LayoutModel",
     "state": {
      "_model_module": "@jupyter-widgets/base",
      "_model_module_version": "1.2.0",
      "_model_name": "LayoutModel",
      "_view_count": null,
      "_view_module": "@jupyter-widgets/base",
      "_view_module_version": "1.2.0",
      "_view_name": "LayoutView",
      "align_content": null,
      "align_items": null,
      "align_self": null,
      "border": null,
      "bottom": null,
      "display": null,
      "flex": null,
      "flex_flow": null,
      "grid_area": null,
      "grid_auto_columns": null,
      "grid_auto_flow": null,
      "grid_auto_rows": null,
      "grid_column": null,
      "grid_gap": null,
      "grid_row": null,
      "grid_template_areas": null,
      "grid_template_columns": null,
      "grid_template_rows": null,
      "height": null,
      "justify_content": null,
      "justify_items": null,
      "left": null,
      "margin": null,
      "max_height": null,
      "max_width": null,
      "min_height": null,
      "min_width": null,
      "object_fit": null,
      "object_position": null,
      "order": null,
      "overflow": null,
      "overflow_x": null,
      "overflow_y": null,
      "padding": null,
      "right": null,
      "top": null,
      "visibility": null,
      "width": null
     }
    },
    "420e99693b514a27aa7dc0f5023b0366": {
     "model_module": "@jupyter-widgets/base",
     "model_module_version": "1.2.0",
     "model_name": "LayoutModel",
     "state": {
      "_model_module": "@jupyter-widgets/base",
      "_model_module_version": "1.2.0",
      "_model_name": "LayoutModel",
      "_view_count": null,
      "_view_module": "@jupyter-widgets/base",
      "_view_module_version": "1.2.0",
      "_view_name": "LayoutView",
      "align_content": null,
      "align_items": null,
      "align_self": null,
      "border": null,
      "bottom": null,
      "display": null,
      "flex": null,
      "flex_flow": null,
      "grid_area": null,
      "grid_auto_columns": null,
      "grid_auto_flow": null,
      "grid_auto_rows": null,
      "grid_column": null,
      "grid_gap": null,
      "grid_row": null,
      "grid_template_areas": null,
      "grid_template_columns": null,
      "grid_template_rows": null,
      "height": null,
      "justify_content": null,
      "justify_items": null,
      "left": null,
      "margin": null,
      "max_height": null,
      "max_width": null,
      "min_height": null,
      "min_width": null,
      "object_fit": null,
      "object_position": null,
      "order": null,
      "overflow": null,
      "overflow_x": null,
      "overflow_y": null,
      "padding": null,
      "right": null,
      "top": null,
      "visibility": null,
      "width": null
     }
    },
    "4374d061796241b089a6dcb6b44127b2": {
     "model_module": "@jupyter-widgets/controls",
     "model_module_version": "1.5.0",
     "model_name": "HTMLModel",
     "state": {
      "_dom_classes": [],
      "_model_module": "@jupyter-widgets/controls",
      "_model_module_version": "1.5.0",
      "_model_name": "HTMLModel",
      "_view_count": null,
      "_view_module": "@jupyter-widgets/controls",
      "_view_module_version": "1.5.0",
      "_view_name": "HTMLView",
      "description": "",
      "description_tooltip": null,
      "layout": "IPY_MODEL_158abb65127b4740a3f431d41c576152",
      "placeholder": "​",
      "style": "IPY_MODEL_3af5e1276a304ddb88b7a24708906d7e",
      "value": " 483/483 [00:00&lt;00:00, 11.4kB/s]"
     }
    },
    "4541722e182c42509531409e51e0dc84": {
     "model_module": "@jupyter-widgets/controls",
     "model_module_version": "1.5.0",
     "model_name": "DescriptionStyleModel",
     "state": {
      "_model_module": "@jupyter-widgets/controls",
      "_model_module_version": "1.5.0",
      "_model_name": "DescriptionStyleModel",
      "_view_count": null,
      "_view_module": "@jupyter-widgets/base",
      "_view_module_version": "1.2.0",
      "_view_name": "StyleView",
      "description_width": ""
     }
    },
    "469379bb50c14040bfd7cbbc83d63556": {
     "model_module": "@jupyter-widgets/controls",
     "model_module_version": "1.5.0",
     "model_name": "HBoxModel",
     "state": {
      "_dom_classes": [],
      "_model_module": "@jupyter-widgets/controls",
      "_model_module_version": "1.5.0",
      "_model_name": "HBoxModel",
      "_view_count": null,
      "_view_module": "@jupyter-widgets/controls",
      "_view_module_version": "1.5.0",
      "_view_name": "HBoxView",
      "box_style": "",
      "children": [
       "IPY_MODEL_1d561e25b91048d3a2db8b64f5d32bb5",
       "IPY_MODEL_159158784e414691b54643626765c209",
       "IPY_MODEL_bfefb1934d5745f98bcd5ffae867e643"
      ],
      "layout": "IPY_MODEL_f0a791632f2449bb88c722318d9de66d"
     }
    },
    "474309a581df4c5eb84b6bc64d6e32fc": {
     "model_module": "@jupyter-widgets/controls",
     "model_module_version": "1.5.0",
     "model_name": "HTMLModel",
     "state": {
      "_dom_classes": [],
      "_model_module": "@jupyter-widgets/controls",
      "_model_module_version": "1.5.0",
      "_model_name": "HTMLModel",
      "_view_count": null,
      "_view_module": "@jupyter-widgets/controls",
      "_view_module_version": "1.5.0",
      "_view_name": "HTMLView",
      "description": "",
      "description_tooltip": null,
      "layout": "IPY_MODEL_32c67def1ab64a4dbe33675887dcdde2",
      "placeholder": "​",
      "style": "IPY_MODEL_8c349571cea54b74b5b1af68bd93ba1b",
      "value": "Downloading: 100%"
     }
    },
    "4be9a91fe660455199fcf0a5b6e24c41": {
     "model_module": "@jupyter-widgets/controls",
     "model_module_version": "1.5.0",
     "model_name": "HBoxModel",
     "state": {
      "_dom_classes": [],
      "_model_module": "@jupyter-widgets/controls",
      "_model_module_version": "1.5.0",
      "_model_name": "HBoxModel",
      "_view_count": null,
      "_view_module": "@jupyter-widgets/controls",
      "_view_module_version": "1.5.0",
      "_view_name": "HBoxView",
      "box_style": "",
      "children": [
       "IPY_MODEL_474309a581df4c5eb84b6bc64d6e32fc",
       "IPY_MODEL_bee52762f8fe458fbe7d749378cf6f4a",
       "IPY_MODEL_21133f419004447a87e0eb8e8f8ace5e"
      ],
      "layout": "IPY_MODEL_1146d7e991094552af6f6ae7645d7fce"
     }
    },
    "4dc13a315d8d47208796a2da86fac649": {
     "model_module": "@jupyter-widgets/controls",
     "model_module_version": "1.5.0",
     "model_name": "FloatProgressModel",
     "state": {
      "_dom_classes": [],
      "_model_module": "@jupyter-widgets/controls",
      "_model_module_version": "1.5.0",
      "_model_name": "FloatProgressModel",
      "_view_count": null,
      "_view_module": "@jupyter-widgets/controls",
      "_view_module_version": "1.5.0",
      "_view_name": "ProgressView",
      "bar_style": "success",
      "description": "",
      "description_tooltip": null,
      "layout": "IPY_MODEL_7df3fe4082bb4da5836c0ec11a4dbd3e",
      "max": 570,
      "min": 0,
      "orientation": "horizontal",
      "style": "IPY_MODEL_bfb14857af954d699516aad10749c80a",
      "value": 570
     }
    },
    "50afc09bdf7b4201a1f64ac9112f451b": {
     "model_module": "@jupyter-widgets/controls",
     "model_module_version": "1.5.0",
     "model_name": "DescriptionStyleModel",
     "state": {
      "_model_module": "@jupyter-widgets/controls",
      "_model_module_version": "1.5.0",
      "_model_name": "DescriptionStyleModel",
      "_view_count": null,
      "_view_module": "@jupyter-widgets/base",
      "_view_module_version": "1.2.0",
      "_view_name": "StyleView",
      "description_width": ""
     }
    },
    "5310047ef8ea4427864f3511fa242f29": {
     "model_module": "@jupyter-widgets/base",
     "model_module_version": "1.2.0",
     "model_name": "LayoutModel",
     "state": {
      "_model_module": "@jupyter-widgets/base",
      "_model_module_version": "1.2.0",
      "_model_name": "LayoutModel",
      "_view_count": null,
      "_view_module": "@jupyter-widgets/base",
      "_view_module_version": "1.2.0",
      "_view_name": "LayoutView",
      "align_content": null,
      "align_items": null,
      "align_self": null,
      "border": null,
      "bottom": null,
      "display": null,
      "flex": null,
      "flex_flow": null,
      "grid_area": null,
      "grid_auto_columns": null,
      "grid_auto_flow": null,
      "grid_auto_rows": null,
      "grid_column": null,
      "grid_gap": null,
      "grid_row": null,
      "grid_template_areas": null,
      "grid_template_columns": null,
      "grid_template_rows": null,
      "height": null,
      "justify_content": null,
      "justify_items": null,
      "left": null,
      "margin": null,
      "max_height": null,
      "max_width": null,
      "min_height": null,
      "min_width": null,
      "object_fit": null,
      "object_position": null,
      "order": null,
      "overflow": null,
      "overflow_x": null,
      "overflow_y": null,
      "padding": null,
      "right": null,
      "top": null,
      "visibility": null,
      "width": null
     }
    },
    "56bc748ac70d4288b02eaf1293b89555": {
     "model_module": "@jupyter-widgets/controls",
     "model_module_version": "1.5.0",
     "model_name": "DescriptionStyleModel",
     "state": {
      "_model_module": "@jupyter-widgets/controls",
      "_model_module_version": "1.5.0",
      "_model_name": "DescriptionStyleModel",
      "_view_count": null,
      "_view_module": "@jupyter-widgets/base",
      "_view_module_version": "1.2.0",
      "_view_name": "StyleView",
      "description_width": ""
     }
    },
    "570da6599fd94f2da683771bb67c9257": {
     "model_module": "@jupyter-widgets/controls",
     "model_module_version": "1.5.0",
     "model_name": "HBoxModel",
     "state": {
      "_dom_classes": [],
      "_model_module": "@jupyter-widgets/controls",
      "_model_module_version": "1.5.0",
      "_model_name": "HBoxModel",
      "_view_count": null,
      "_view_module": "@jupyter-widgets/controls",
      "_view_module_version": "1.5.0",
      "_view_name": "HBoxView",
      "box_style": "",
      "children": [
       "IPY_MODEL_8377a71a381744f49af0e5799a23f16f",
       "IPY_MODEL_85d36d4b653d4accbb62fc306b7e98e1",
       "IPY_MODEL_b44a12eb32964bb9a894d8e0915bfa8b"
      ],
      "layout": "IPY_MODEL_9c6bcea3c4e0436793018b2f13a333df"
     }
    },
    "5993cf9927714447839e9495df9195a8": {
     "model_module": "@jupyter-widgets/controls",
     "model_module_version": "1.5.0",
     "model_name": "DescriptionStyleModel",
     "state": {
      "_model_module": "@jupyter-widgets/controls",
      "_model_module_version": "1.5.0",
      "_model_name": "DescriptionStyleModel",
      "_view_count": null,
      "_view_module": "@jupyter-widgets/base",
      "_view_module_version": "1.2.0",
      "_view_name": "StyleView",
      "description_width": ""
     }
    },
    "5e324e6e63ff4c54b632f148615ad8c0": {
     "model_module": "@jupyter-widgets/controls",
     "model_module_version": "1.5.0",
     "model_name": "HTMLModel",
     "state": {
      "_dom_classes": [],
      "_model_module": "@jupyter-widgets/controls",
      "_model_module_version": "1.5.0",
      "_model_name": "HTMLModel",
      "_view_count": null,
      "_view_module": "@jupyter-widgets/controls",
      "_view_module_version": "1.5.0",
      "_view_name": "HTMLView",
      "description": "",
      "description_tooltip": null,
      "layout": "IPY_MODEL_2f1a1b5bd2c94b1a8b95191b5710434a",
      "placeholder": "​",
      "style": "IPY_MODEL_50afc09bdf7b4201a1f64ac9112f451b",
      "value": "Downloading: 100%"
     }
    },
    "68760a7ba95c4fbc95a9cb56d88b1a81": {
     "model_module": "@jupyter-widgets/controls",
     "model_module_version": "1.5.0",
     "model_name": "FloatProgressModel",
     "state": {
      "_dom_classes": [],
      "_model_module": "@jupyter-widgets/controls",
      "_model_module_version": "1.5.0",
      "_model_name": "FloatProgressModel",
      "_view_count": null,
      "_view_module": "@jupyter-widgets/controls",
      "_view_module_version": "1.5.0",
      "_view_name": "ProgressView",
      "bar_style": "success",
      "description": "",
      "description_tooltip": null,
      "layout": "IPY_MODEL_d1769ca956594dd8afdc9378037dbe0c",
      "max": 483,
      "min": 0,
      "orientation": "horizontal",
      "style": "IPY_MODEL_f576eb696b7e4217befa06c19c2d1f94",
      "value": 483
     }
    },
    "6ab058f431d845f3b783326fe1bb00d3": {
     "model_module": "@jupyter-widgets/base",
     "model_module_version": "1.2.0",
     "model_name": "LayoutModel",
     "state": {
      "_model_module": "@jupyter-widgets/base",
      "_model_module_version": "1.2.0",
      "_model_name": "LayoutModel",
      "_view_count": null,
      "_view_module": "@jupyter-widgets/base",
      "_view_module_version": "1.2.0",
      "_view_name": "LayoutView",
      "align_content": null,
      "align_items": null,
      "align_self": null,
      "border": null,
      "bottom": null,
      "display": null,
      "flex": null,
      "flex_flow": null,
      "grid_area": null,
      "grid_auto_columns": null,
      "grid_auto_flow": null,
      "grid_auto_rows": null,
      "grid_column": null,
      "grid_gap": null,
      "grid_row": null,
      "grid_template_areas": null,
      "grid_template_columns": null,
      "grid_template_rows": null,
      "height": null,
      "justify_content": null,
      "justify_items": null,
      "left": null,
      "margin": null,
      "max_height": null,
      "max_width": null,
      "min_height": null,
      "min_width": null,
      "object_fit": null,
      "object_position": null,
      "order": null,
      "overflow": null,
      "overflow_x": null,
      "overflow_y": null,
      "padding": null,
      "right": null,
      "top": null,
      "visibility": null,
      "width": null
     }
    },
    "7297b8d6e5e14070b2360f5b48d913d3": {
     "model_module": "@jupyter-widgets/controls",
     "model_module_version": "1.5.0",
     "model_name": "DescriptionStyleModel",
     "state": {
      "_model_module": "@jupyter-widgets/controls",
      "_model_module_version": "1.5.0",
      "_model_name": "DescriptionStyleModel",
      "_view_count": null,
      "_view_module": "@jupyter-widgets/base",
      "_view_module_version": "1.2.0",
      "_view_name": "StyleView",
      "description_width": ""
     }
    },
    "7df3fe4082bb4da5836c0ec11a4dbd3e": {
     "model_module": "@jupyter-widgets/base",
     "model_module_version": "1.2.0",
     "model_name": "LayoutModel",
     "state": {
      "_model_module": "@jupyter-widgets/base",
      "_model_module_version": "1.2.0",
      "_model_name": "LayoutModel",
      "_view_count": null,
      "_view_module": "@jupyter-widgets/base",
      "_view_module_version": "1.2.0",
      "_view_name": "LayoutView",
      "align_content": null,
      "align_items": null,
      "align_self": null,
      "border": null,
      "bottom": null,
      "display": null,
      "flex": null,
      "flex_flow": null,
      "grid_area": null,
      "grid_auto_columns": null,
      "grid_auto_flow": null,
      "grid_auto_rows": null,
      "grid_column": null,
      "grid_gap": null,
      "grid_row": null,
      "grid_template_areas": null,
      "grid_template_columns": null,
      "grid_template_rows": null,
      "height": null,
      "justify_content": null,
      "justify_items": null,
      "left": null,
      "margin": null,
      "max_height": null,
      "max_width": null,
      "min_height": null,
      "min_width": null,
      "object_fit": null,
      "object_position": null,
      "order": null,
      "overflow": null,
      "overflow_x": null,
      "overflow_y": null,
      "padding": null,
      "right": null,
      "top": null,
      "visibility": null,
      "width": null
     }
    },
    "8377a71a381744f49af0e5799a23f16f": {
     "model_module": "@jupyter-widgets/controls",
     "model_module_version": "1.5.0",
     "model_name": "HTMLModel",
     "state": {
      "_dom_classes": [],
      "_model_module": "@jupyter-widgets/controls",
      "_model_module_version": "1.5.0",
      "_model_name": "HTMLModel",
      "_view_count": null,
      "_view_module": "@jupyter-widgets/controls",
      "_view_module_version": "1.5.0",
      "_view_name": "HTMLView",
      "description": "",
      "description_tooltip": null,
      "layout": "IPY_MODEL_ea32bab658e6494487732614683adefe",
      "placeholder": "​",
      "style": "IPY_MODEL_dd3de6dc4b7646d890eb1df3c1c1f552",
      "value": "Downloading: 100%"
     }
    },
    "85d36d4b653d4accbb62fc306b7e98e1": {
     "model_module": "@jupyter-widgets/controls",
     "model_module_version": "1.5.0",
     "model_name": "FloatProgressModel",
     "state": {
      "_dom_classes": [],
      "_model_module": "@jupyter-widgets/controls",
      "_model_module_version": "1.5.0",
      "_model_name": "FloatProgressModel",
      "_view_count": null,
      "_view_module": "@jupyter-widgets/controls",
      "_view_module_version": "1.5.0",
      "_view_name": "ProgressView",
      "bar_style": "success",
      "description": "",
      "description_tooltip": null,
      "layout": "IPY_MODEL_370aaac57d674c5f98a61955c71e8aab",
      "max": 28,
      "min": 0,
      "orientation": "horizontal",
      "style": "IPY_MODEL_b8b91df50cac4bdeaf728c1982ef1f66",
      "value": 28
     }
    },
    "8c349571cea54b74b5b1af68bd93ba1b": {
     "model_module": "@jupyter-widgets/controls",
     "model_module_version": "1.5.0",
     "model_name": "DescriptionStyleModel",
     "state": {
      "_model_module": "@jupyter-widgets/controls",
      "_model_module_version": "1.5.0",
      "_model_name": "DescriptionStyleModel",
      "_view_count": null,
      "_view_module": "@jupyter-widgets/base",
      "_view_module_version": "1.2.0",
      "_view_name": "StyleView",
      "description_width": ""
     }
    },
    "9000aa44559b414990e080a05f6a2682": {
     "model_module": "@jupyter-widgets/controls",
     "model_module_version": "1.5.0",
     "model_name": "ProgressStyleModel",
     "state": {
      "_model_module": "@jupyter-widgets/controls",
      "_model_module_version": "1.5.0",
      "_model_name": "ProgressStyleModel",
      "_view_count": null,
      "_view_module": "@jupyter-widgets/base",
      "_view_module_version": "1.2.0",
      "_view_name": "StyleView",
      "bar_color": null,
      "description_width": ""
     }
    },
    "905c132b12a04172af346be6a7e83c82": {
     "model_module": "@jupyter-widgets/base",
     "model_module_version": "1.2.0",
     "model_name": "LayoutModel",
     "state": {
      "_model_module": "@jupyter-widgets/base",
      "_model_module_version": "1.2.0",
      "_model_name": "LayoutModel",
      "_view_count": null,
      "_view_module": "@jupyter-widgets/base",
      "_view_module_version": "1.2.0",
      "_view_name": "LayoutView",
      "align_content": null,
      "align_items": null,
      "align_self": null,
      "border": null,
      "bottom": null,
      "display": null,
      "flex": null,
      "flex_flow": null,
      "grid_area": null,
      "grid_auto_columns": null,
      "grid_auto_flow": null,
      "grid_auto_rows": null,
      "grid_column": null,
      "grid_gap": null,
      "grid_row": null,
      "grid_template_areas": null,
      "grid_template_columns": null,
      "grid_template_rows": null,
      "height": null,
      "justify_content": null,
      "justify_items": null,
      "left": null,
      "margin": null,
      "max_height": null,
      "max_width": null,
      "min_height": null,
      "min_width": null,
      "object_fit": null,
      "object_position": null,
      "order": null,
      "overflow": null,
      "overflow_x": null,
      "overflow_y": null,
      "padding": null,
      "right": null,
      "top": null,
      "visibility": null,
      "width": null
     }
    },
    "9959bf739e9241748246e568fa9720d0": {
     "model_module": "@jupyter-widgets/base",
     "model_module_version": "1.2.0",
     "model_name": "LayoutModel",
     "state": {
      "_model_module": "@jupyter-widgets/base",
      "_model_module_version": "1.2.0",
      "_model_name": "LayoutModel",
      "_view_count": null,
      "_view_module": "@jupyter-widgets/base",
      "_view_module_version": "1.2.0",
      "_view_name": "LayoutView",
      "align_content": null,
      "align_items": null,
      "align_self": null,
      "border": null,
      "bottom": null,
      "display": null,
      "flex": null,
      "flex_flow": null,
      "grid_area": null,
      "grid_auto_columns": null,
      "grid_auto_flow": null,
      "grid_auto_rows": null,
      "grid_column": null,
      "grid_gap": null,
      "grid_row": null,
      "grid_template_areas": null,
      "grid_template_columns": null,
      "grid_template_rows": null,
      "height": null,
      "justify_content": null,
      "justify_items": null,
      "left": null,
      "margin": null,
      "max_height": null,
      "max_width": null,
      "min_height": null,
      "min_width": null,
      "object_fit": null,
      "object_position": null,
      "order": null,
      "overflow": null,
      "overflow_x": null,
      "overflow_y": null,
      "padding": null,
      "right": null,
      "top": null,
      "visibility": null,
      "width": null
     }
    },
    "9c2e308cda234a9495825ff0d5b2436c": {
     "model_module": "@jupyter-widgets/controls",
     "model_module_version": "1.5.0",
     "model_name": "ProgressStyleModel",
     "state": {
      "_model_module": "@jupyter-widgets/controls",
      "_model_module_version": "1.5.0",
      "_model_name": "ProgressStyleModel",
      "_view_count": null,
      "_view_module": "@jupyter-widgets/base",
      "_view_module_version": "1.2.0",
      "_view_name": "StyleView",
      "bar_color": null,
      "description_width": ""
     }
    },
    "9c6bcea3c4e0436793018b2f13a333df": {
     "model_module": "@jupyter-widgets/base",
     "model_module_version": "1.2.0",
     "model_name": "LayoutModel",
     "state": {
      "_model_module": "@jupyter-widgets/base",
      "_model_module_version": "1.2.0",
      "_model_name": "LayoutModel",
      "_view_count": null,
      "_view_module": "@jupyter-widgets/base",
      "_view_module_version": "1.2.0",
      "_view_name": "LayoutView",
      "align_content": null,
      "align_items": null,
      "align_self": null,
      "border": null,
      "bottom": null,
      "display": null,
      "flex": null,
      "flex_flow": null,
      "grid_area": null,
      "grid_auto_columns": null,
      "grid_auto_flow": null,
      "grid_auto_rows": null,
      "grid_column": null,
      "grid_gap": null,
      "grid_row": null,
      "grid_template_areas": null,
      "grid_template_columns": null,
      "grid_template_rows": null,
      "height": null,
      "justify_content": null,
      "justify_items": null,
      "left": null,
      "margin": null,
      "max_height": null,
      "max_width": null,
      "min_height": null,
      "min_width": null,
      "object_fit": null,
      "object_position": null,
      "order": null,
      "overflow": null,
      "overflow_x": null,
      "overflow_y": null,
      "padding": null,
      "right": null,
      "top": null,
      "visibility": null,
      "width": null
     }
    },
    "9cacaf01d14643a18dd387eb1373fad4": {
     "model_module": "@jupyter-widgets/base",
     "model_module_version": "1.2.0",
     "model_name": "LayoutModel",
     "state": {
      "_model_module": "@jupyter-widgets/base",
      "_model_module_version": "1.2.0",
      "_model_name": "LayoutModel",
      "_view_count": null,
      "_view_module": "@jupyter-widgets/base",
      "_view_module_version": "1.2.0",
      "_view_name": "LayoutView",
      "align_content": null,
      "align_items": null,
      "align_self": null,
      "border": null,
      "bottom": null,
      "display": null,
      "flex": null,
      "flex_flow": null,
      "grid_area": null,
      "grid_auto_columns": null,
      "grid_auto_flow": null,
      "grid_auto_rows": null,
      "grid_column": null,
      "grid_gap": null,
      "grid_row": null,
      "grid_template_areas": null,
      "grid_template_columns": null,
      "grid_template_rows": null,
      "height": null,
      "justify_content": null,
      "justify_items": null,
      "left": null,
      "margin": null,
      "max_height": null,
      "max_width": null,
      "min_height": null,
      "min_width": null,
      "object_fit": null,
      "object_position": null,
      "order": null,
      "overflow": null,
      "overflow_x": null,
      "overflow_y": null,
      "padding": null,
      "right": null,
      "top": null,
      "visibility": null,
      "width": null
     }
    },
    "a0dfaf6bf55f4c15b8de8a034670f05e": {
     "model_module": "@jupyter-widgets/base",
     "model_module_version": "1.2.0",
     "model_name": "LayoutModel",
     "state": {
      "_model_module": "@jupyter-widgets/base",
      "_model_module_version": "1.2.0",
      "_model_name": "LayoutModel",
      "_view_count": null,
      "_view_module": "@jupyter-widgets/base",
      "_view_module_version": "1.2.0",
      "_view_name": "LayoutView",
      "align_content": null,
      "align_items": null,
      "align_self": null,
      "border": null,
      "bottom": null,
      "display": null,
      "flex": null,
      "flex_flow": null,
      "grid_area": null,
      "grid_auto_columns": null,
      "grid_auto_flow": null,
      "grid_auto_rows": null,
      "grid_column": null,
      "grid_gap": null,
      "grid_row": null,
      "grid_template_areas": null,
      "grid_template_columns": null,
      "grid_template_rows": null,
      "height": null,
      "justify_content": null,
      "justify_items": null,
      "left": null,
      "margin": null,
      "max_height": null,
      "max_width": null,
      "min_height": null,
      "min_width": null,
      "object_fit": null,
      "object_position": null,
      "order": null,
      "overflow": null,
      "overflow_x": null,
      "overflow_y": null,
      "padding": null,
      "right": null,
      "top": null,
      "visibility": null,
      "width": null
     }
    },
    "b44a12eb32964bb9a894d8e0915bfa8b": {
     "model_module": "@jupyter-widgets/controls",
     "model_module_version": "1.5.0",
     "model_name": "HTMLModel",
     "state": {
      "_dom_classes": [],
      "_model_module": "@jupyter-widgets/controls",
      "_model_module_version": "1.5.0",
      "_model_name": "HTMLModel",
      "_view_count": null,
      "_view_module": "@jupyter-widgets/controls",
      "_view_module_version": "1.5.0",
      "_view_name": "HTMLView",
      "description": "",
      "description_tooltip": null,
      "layout": "IPY_MODEL_c9f9d3972fa84196979576f098aa7ef0",
      "placeholder": "​",
      "style": "IPY_MODEL_56bc748ac70d4288b02eaf1293b89555",
      "value": " 28.0/28.0 [00:00&lt;00:00, 656B/s]"
     }
    },
    "b7c3cb522d56421b8c79766a82fbf31e": {
     "model_module": "@jupyter-widgets/base",
     "model_module_version": "1.2.0",
     "model_name": "LayoutModel",
     "state": {
      "_model_module": "@jupyter-widgets/base",
      "_model_module_version": "1.2.0",
      "_model_name": "LayoutModel",
      "_view_count": null,
      "_view_module": "@jupyter-widgets/base",
      "_view_module_version": "1.2.0",
      "_view_name": "LayoutView",
      "align_content": null,
      "align_items": null,
      "align_self": null,
      "border": null,
      "bottom": null,
      "display": null,
      "flex": null,
      "flex_flow": null,
      "grid_area": null,
      "grid_auto_columns": null,
      "grid_auto_flow": null,
      "grid_auto_rows": null,
      "grid_column": null,
      "grid_gap": null,
      "grid_row": null,
      "grid_template_areas": null,
      "grid_template_columns": null,
      "grid_template_rows": null,
      "height": null,
      "justify_content": null,
      "justify_items": null,
      "left": null,
      "margin": null,
      "max_height": null,
      "max_width": null,
      "min_height": null,
      "min_width": null,
      "object_fit": null,
      "object_position": null,
      "order": null,
      "overflow": null,
      "overflow_x": null,
      "overflow_y": null,
      "padding": null,
      "right": null,
      "top": null,
      "visibility": null,
      "width": null
     }
    },
    "b8b91df50cac4bdeaf728c1982ef1f66": {
     "model_module": "@jupyter-widgets/controls",
     "model_module_version": "1.5.0",
     "model_name": "ProgressStyleModel",
     "state": {
      "_model_module": "@jupyter-widgets/controls",
      "_model_module_version": "1.5.0",
      "_model_name": "ProgressStyleModel",
      "_view_count": null,
      "_view_module": "@jupyter-widgets/base",
      "_view_module_version": "1.2.0",
      "_view_name": "StyleView",
      "bar_color": null,
      "description_width": ""
     }
    },
    "bee52762f8fe458fbe7d749378cf6f4a": {
     "model_module": "@jupyter-widgets/controls",
     "model_module_version": "1.5.0",
     "model_name": "FloatProgressModel",
     "state": {
      "_dom_classes": [],
      "_model_module": "@jupyter-widgets/controls",
      "_model_module_version": "1.5.0",
      "_model_name": "FloatProgressModel",
      "_view_count": null,
      "_view_module": "@jupyter-widgets/controls",
      "_view_module_version": "1.5.0",
      "_view_name": "ProgressView",
      "bar_style": "success",
      "description": "",
      "description_tooltip": null,
      "layout": "IPY_MODEL_905c132b12a04172af346be6a7e83c82",
      "max": 466062,
      "min": 0,
      "orientation": "horizontal",
      "style": "IPY_MODEL_082e60290ad046e0b664b124ff414589",
      "value": 466062
     }
    },
    "bfb14857af954d699516aad10749c80a": {
     "model_module": "@jupyter-widgets/controls",
     "model_module_version": "1.5.0",
     "model_name": "ProgressStyleModel",
     "state": {
      "_model_module": "@jupyter-widgets/controls",
      "_model_module_version": "1.5.0",
      "_model_name": "ProgressStyleModel",
      "_view_count": null,
      "_view_module": "@jupyter-widgets/base",
      "_view_module_version": "1.2.0",
      "_view_name": "StyleView",
      "bar_color": null,
      "description_width": ""
     }
    },
    "bfefb1934d5745f98bcd5ffae867e643": {
     "model_module": "@jupyter-widgets/controls",
     "model_module_version": "1.5.0",
     "model_name": "HTMLModel",
     "state": {
      "_dom_classes": [],
      "_model_module": "@jupyter-widgets/controls",
      "_model_module_version": "1.5.0",
      "_model_name": "HTMLModel",
      "_view_count": null,
      "_view_module": "@jupyter-widgets/controls",
      "_view_module_version": "1.5.0",
      "_view_name": "HTMLView",
      "description": "",
      "description_tooltip": null,
      "layout": "IPY_MODEL_dd4c262f7e1046229410aa82839f9e8b",
      "placeholder": "​",
      "style": "IPY_MODEL_7297b8d6e5e14070b2360f5b48d913d3",
      "value": " 226k/226k [00:00&lt;00:00, 987kB/s]"
     }
    },
    "c1af81d0cee344208b46a79cc5adcc81": {
     "model_module": "@jupyter-widgets/controls",
     "model_module_version": "1.5.0",
     "model_name": "DescriptionStyleModel",
     "state": {
      "_model_module": "@jupyter-widgets/controls",
      "_model_module_version": "1.5.0",
      "_model_name": "DescriptionStyleModel",
      "_view_count": null,
      "_view_module": "@jupyter-widgets/base",
      "_view_module_version": "1.2.0",
      "_view_name": "StyleView",
      "description_width": ""
     }
    },
    "c9f9d3972fa84196979576f098aa7ef0": {
     "model_module": "@jupyter-widgets/base",
     "model_module_version": "1.2.0",
     "model_name": "LayoutModel",
     "state": {
      "_model_module": "@jupyter-widgets/base",
      "_model_module_version": "1.2.0",
      "_model_name": "LayoutModel",
      "_view_count": null,
      "_view_module": "@jupyter-widgets/base",
      "_view_module_version": "1.2.0",
      "_view_name": "LayoutView",
      "align_content": null,
      "align_items": null,
      "align_self": null,
      "border": null,
      "bottom": null,
      "display": null,
      "flex": null,
      "flex_flow": null,
      "grid_area": null,
      "grid_auto_columns": null,
      "grid_auto_flow": null,
      "grid_auto_rows": null,
      "grid_column": null,
      "grid_gap": null,
      "grid_row": null,
      "grid_template_areas": null,
      "grid_template_columns": null,
      "grid_template_rows": null,
      "height": null,
      "justify_content": null,
      "justify_items": null,
      "left": null,
      "margin": null,
      "max_height": null,
      "max_width": null,
      "min_height": null,
      "min_width": null,
      "object_fit": null,
      "object_position": null,
      "order": null,
      "overflow": null,
      "overflow_x": null,
      "overflow_y": null,
      "padding": null,
      "right": null,
      "top": null,
      "visibility": null,
      "width": null
     }
    },
    "cec583b870dd4d8bae7a583dfd7491ee": {
     "model_module": "@jupyter-widgets/controls",
     "model_module_version": "1.5.0",
     "model_name": "HTMLModel",
     "state": {
      "_dom_classes": [],
      "_model_module": "@jupyter-widgets/controls",
      "_model_module_version": "1.5.0",
      "_model_name": "HTMLModel",
      "_view_count": null,
      "_view_module": "@jupyter-widgets/controls",
      "_view_module_version": "1.5.0",
      "_view_name": "HTMLView",
      "description": "",
      "description_tooltip": null,
      "layout": "IPY_MODEL_9959bf739e9241748246e568fa9720d0",
      "placeholder": "​",
      "style": "IPY_MODEL_5993cf9927714447839e9495df9195a8",
      "value": "Downloading: 100%"
     }
    },
    "d1769ca956594dd8afdc9378037dbe0c": {
     "model_module": "@jupyter-widgets/base",
     "model_module_version": "1.2.0",
     "model_name": "LayoutModel",
     "state": {
      "_model_module": "@jupyter-widgets/base",
      "_model_module_version": "1.2.0",
      "_model_name": "LayoutModel",
      "_view_count": null,
      "_view_module": "@jupyter-widgets/base",
      "_view_module_version": "1.2.0",
      "_view_name": "LayoutView",
      "align_content": null,
      "align_items": null,
      "align_self": null,
      "border": null,
      "bottom": null,
      "display": null,
      "flex": null,
      "flex_flow": null,
      "grid_area": null,
      "grid_auto_columns": null,
      "grid_auto_flow": null,
      "grid_auto_rows": null,
      "grid_column": null,
      "grid_gap": null,
      "grid_row": null,
      "grid_template_areas": null,
      "grid_template_columns": null,
      "grid_template_rows": null,
      "height": null,
      "justify_content": null,
      "justify_items": null,
      "left": null,
      "margin": null,
      "max_height": null,
      "max_width": null,
      "min_height": null,
      "min_width": null,
      "object_fit": null,
      "object_position": null,
      "order": null,
      "overflow": null,
      "overflow_x": null,
      "overflow_y": null,
      "padding": null,
      "right": null,
      "top": null,
      "visibility": null,
      "width": null
     }
    },
    "dd3de6dc4b7646d890eb1df3c1c1f552": {
     "model_module": "@jupyter-widgets/controls",
     "model_module_version": "1.5.0",
     "model_name": "DescriptionStyleModel",
     "state": {
      "_model_module": "@jupyter-widgets/controls",
      "_model_module_version": "1.5.0",
      "_model_name": "DescriptionStyleModel",
      "_view_count": null,
      "_view_module": "@jupyter-widgets/base",
      "_view_module_version": "1.2.0",
      "_view_name": "StyleView",
      "description_width": ""
     }
    },
    "dd4c262f7e1046229410aa82839f9e8b": {
     "model_module": "@jupyter-widgets/base",
     "model_module_version": "1.2.0",
     "model_name": "LayoutModel",
     "state": {
      "_model_module": "@jupyter-widgets/base",
      "_model_module_version": "1.2.0",
      "_model_name": "LayoutModel",
      "_view_count": null,
      "_view_module": "@jupyter-widgets/base",
      "_view_module_version": "1.2.0",
      "_view_name": "LayoutView",
      "align_content": null,
      "align_items": null,
      "align_self": null,
      "border": null,
      "bottom": null,
      "display": null,
      "flex": null,
      "flex_flow": null,
      "grid_area": null,
      "grid_auto_columns": null,
      "grid_auto_flow": null,
      "grid_auto_rows": null,
      "grid_column": null,
      "grid_gap": null,
      "grid_row": null,
      "grid_template_areas": null,
      "grid_template_columns": null,
      "grid_template_rows": null,
      "height": null,
      "justify_content": null,
      "justify_items": null,
      "left": null,
      "margin": null,
      "max_height": null,
      "max_width": null,
      "min_height": null,
      "min_width": null,
      "object_fit": null,
      "object_position": null,
      "order": null,
      "overflow": null,
      "overflow_x": null,
      "overflow_y": null,
      "padding": null,
      "right": null,
      "top": null,
      "visibility": null,
      "width": null
     }
    },
    "df27e35fe8aa45d3ba13182effec1ecb": {
     "model_module": "@jupyter-widgets/base",
     "model_module_version": "1.2.0",
     "model_name": "LayoutModel",
     "state": {
      "_model_module": "@jupyter-widgets/base",
      "_model_module_version": "1.2.0",
      "_model_name": "LayoutModel",
      "_view_count": null,
      "_view_module": "@jupyter-widgets/base",
      "_view_module_version": "1.2.0",
      "_view_name": "LayoutView",
      "align_content": null,
      "align_items": null,
      "align_self": null,
      "border": null,
      "bottom": null,
      "display": null,
      "flex": null,
      "flex_flow": null,
      "grid_area": null,
      "grid_auto_columns": null,
      "grid_auto_flow": null,
      "grid_auto_rows": null,
      "grid_column": null,
      "grid_gap": null,
      "grid_row": null,
      "grid_template_areas": null,
      "grid_template_columns": null,
      "grid_template_rows": null,
      "height": null,
      "justify_content": null,
      "justify_items": null,
      "left": null,
      "margin": null,
      "max_height": null,
      "max_width": null,
      "min_height": null,
      "min_width": null,
      "object_fit": null,
      "object_position": null,
      "order": null,
      "overflow": null,
      "overflow_x": null,
      "overflow_y": null,
      "padding": null,
      "right": null,
      "top": null,
      "visibility": null,
      "width": null
     }
    },
    "ea32bab658e6494487732614683adefe": {
     "model_module": "@jupyter-widgets/base",
     "model_module_version": "1.2.0",
     "model_name": "LayoutModel",
     "state": {
      "_model_module": "@jupyter-widgets/base",
      "_model_module_version": "1.2.0",
      "_model_name": "LayoutModel",
      "_view_count": null,
      "_view_module": "@jupyter-widgets/base",
      "_view_module_version": "1.2.0",
      "_view_name": "LayoutView",
      "align_content": null,
      "align_items": null,
      "align_self": null,
      "border": null,
      "bottom": null,
      "display": null,
      "flex": null,
      "flex_flow": null,
      "grid_area": null,
      "grid_auto_columns": null,
      "grid_auto_flow": null,
      "grid_auto_rows": null,
      "grid_column": null,
      "grid_gap": null,
      "grid_row": null,
      "grid_template_areas": null,
      "grid_template_columns": null,
      "grid_template_rows": null,
      "height": null,
      "justify_content": null,
      "justify_items": null,
      "left": null,
      "margin": null,
      "max_height": null,
      "max_width": null,
      "min_height": null,
      "min_width": null,
      "object_fit": null,
      "object_position": null,
      "order": null,
      "overflow": null,
      "overflow_x": null,
      "overflow_y": null,
      "padding": null,
      "right": null,
      "top": null,
      "visibility": null,
      "width": null
     }
    },
    "ec07b9cacdac48dfbc6ab4a69757fc3f": {
     "model_module": "@jupyter-widgets/controls",
     "model_module_version": "1.5.0",
     "model_name": "DescriptionStyleModel",
     "state": {
      "_model_module": "@jupyter-widgets/controls",
      "_model_module_version": "1.5.0",
      "_model_name": "DescriptionStyleModel",
      "_view_count": null,
      "_view_module": "@jupyter-widgets/base",
      "_view_module_version": "1.2.0",
      "_view_name": "StyleView",
      "description_width": ""
     }
    },
    "f00dfc9e241f46a59599fe98f3350fa9": {
     "model_module": "@jupyter-widgets/controls",
     "model_module_version": "1.5.0",
     "model_name": "FloatProgressModel",
     "state": {
      "_dom_classes": [],
      "_model_module": "@jupyter-widgets/controls",
      "_model_module_version": "1.5.0",
      "_model_name": "FloatProgressModel",
      "_view_count": null,
      "_view_module": "@jupyter-widgets/controls",
      "_view_module_version": "1.5.0",
      "_view_name": "ProgressView",
      "bar_style": "success",
      "description": "",
      "description_tooltip": null,
      "layout": "IPY_MODEL_420e99693b514a27aa7dc0f5023b0366",
      "max": 267967963,
      "min": 0,
      "orientation": "horizontal",
      "style": "IPY_MODEL_9c2e308cda234a9495825ff0d5b2436c",
      "value": 267967963
     }
    },
    "f0a791632f2449bb88c722318d9de66d": {
     "model_module": "@jupyter-widgets/base",
     "model_module_version": "1.2.0",
     "model_name": "LayoutModel",
     "state": {
      "_model_module": "@jupyter-widgets/base",
      "_model_module_version": "1.2.0",
      "_model_name": "LayoutModel",
      "_view_count": null,
      "_view_module": "@jupyter-widgets/base",
      "_view_module_version": "1.2.0",
      "_view_name": "LayoutView",
      "align_content": null,
      "align_items": null,
      "align_self": null,
      "border": null,
      "bottom": null,
      "display": null,
      "flex": null,
      "flex_flow": null,
      "grid_area": null,
      "grid_auto_columns": null,
      "grid_auto_flow": null,
      "grid_auto_rows": null,
      "grid_column": null,
      "grid_gap": null,
      "grid_row": null,
      "grid_template_areas": null,
      "grid_template_columns": null,
      "grid_template_rows": null,
      "height": null,
      "justify_content": null,
      "justify_items": null,
      "left": null,
      "margin": null,
      "max_height": null,
      "max_width": null,
      "min_height": null,
      "min_width": null,
      "object_fit": null,
      "object_position": null,
      "order": null,
      "overflow": null,
      "overflow_x": null,
      "overflow_y": null,
      "padding": null,
      "right": null,
      "top": null,
      "visibility": null,
      "width": null
     }
    },
    "f576eb696b7e4217befa06c19c2d1f94": {
     "model_module": "@jupyter-widgets/controls",
     "model_module_version": "1.5.0",
     "model_name": "ProgressStyleModel",
     "state": {
      "_model_module": "@jupyter-widgets/controls",
      "_model_module_version": "1.5.0",
      "_model_name": "ProgressStyleModel",
      "_view_count": null,
      "_view_module": "@jupyter-widgets/base",
      "_view_module_version": "1.2.0",
      "_view_name": "StyleView",
      "bar_color": null,
      "description_width": ""
     }
    },
    "fa520b6dd0a043c7aaf41bf80f99bd86": {
     "model_module": "@jupyter-widgets/controls",
     "model_module_version": "1.5.0",
     "model_name": "HTMLModel",
     "state": {
      "_dom_classes": [],
      "_model_module": "@jupyter-widgets/controls",
      "_model_module_version": "1.5.0",
      "_model_name": "HTMLModel",
      "_view_count": null,
      "_view_module": "@jupyter-widgets/controls",
      "_view_module_version": "1.5.0",
      "_view_name": "HTMLView",
      "description": "",
      "description_tooltip": null,
      "layout": "IPY_MODEL_5310047ef8ea4427864f3511fa242f29",
      "placeholder": "​",
      "style": "IPY_MODEL_4541722e182c42509531409e51e0dc84",
      "value": "Downloading: 100%"
     }
    }
   }
  }
 },
 "nbformat": 4,
 "nbformat_minor": 1
}
